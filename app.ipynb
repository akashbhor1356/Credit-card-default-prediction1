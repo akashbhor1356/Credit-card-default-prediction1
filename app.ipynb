{
  "cells": [
    {
      "cell_type": "markdown",
      "metadata": {
        "id": "view-in-github",
        "colab_type": "text"
      },
      "source": [
        "<a href=\"https://colab.research.google.com/github/sushant8525/credit-card-default-prediction/blob/main/app.ipynb\" target=\"_parent\"><img src=\"https://colab.research.google.com/assets/colab-badge.svg\" alt=\"Open In Colab\"/></a>"
      ]
    },
    {
      "cell_type": "code",
      "source": [
        "import numpy as np\n",
        "from flask import Flask, request, jsonify, render_template\n",
        "import pickle\n",
        "\n",
        "app = Flask(__name__)\n",
        "model = pickle.load(open('model.pkl', 'rb'))\n",
        "\n",
        "@app.route('/')\n",
        "def home():\n",
        "\treturn render_template('index.html')\n",
        "\n",
        "@app.route('/predict', methods=['POST'])\n",
        "def predict():\n",
        "\t'''\n",
        "\tfor rendering results on HTML\n",
        "\t'''\t\n",
        "\tfeatures = [int(x) for x in request.form.values()]\n",
        "\n",
        "\t# re-arranging the list as per data set\n",
        "\tfeature_list = [features[4]] + features[:4] + features[5:11][::-1] + features[11:17][::-1] + features[17:][::-1]\n",
        "\tfeatures_arr = [np.array(feature_list)]\n",
        "\n",
        "\tprediction = model.predict(features_arr)\n",
        "\n",
        "\tprint(features_arr)\n",
        "\tprint(\"prediction value: \", prediction)\n",
        "\n",
        "\tresult = \"\"\n",
        "\tif prediction == 1:\n",
        "\t\tresult = \"The credit card holder will be Defaulter in the next month\"\n",
        "\telse:\n",
        "\t\tresult = \"The Credit card holder will not be Defaulter in the next month\"\n",
        "\n",
        "\treturn render_template('index.html', prediction_text = result)\n",
        "\n",
        "\n",
        "if __name__ == '__main__':\n",
        "\tapp.run(debug=True)"
      ],
      "metadata": {
        "id": "yBS5ED8FCIcW"
      },
      "execution_count": null,
      "outputs": []
    }
  ],
  "metadata": {
    "colab": {
      "collapsed_sections": [],
      "name": "app",
      "provenance": [],
      "authorship_tag": "ABX9TyM4HrKEPuvtRVx9l501M4rW",
      "include_colab_link": true
    },
    "kernelspec": {
      "display_name": "Python 3",
      "name": "python3"
    },
    "language_info": {
      "name": "python"
    }
  },
  "nbformat": 4,
  "nbformat_minor": 0
}