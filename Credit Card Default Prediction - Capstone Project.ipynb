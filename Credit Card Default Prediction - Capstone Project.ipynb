{
  "nbformat": 4,
  "nbformat_minor": 0,
  "metadata": {
    "kernelspec": {
      "display_name": "Python 3",
      "language": "python",
      "name": "python3"
    },
    "language_info": {
      "codemirror_mode": {
        "name": "ipython",
        "version": 3
      },
      "file_extension": ".py",
      "mimetype": "text/x-python",
      "name": "python",
      "nbconvert_exporter": "python",
      "pygments_lexer": "ipython3",
      "version": "3.6.6"
    },
    "colab": {
      "name": "Credit Card Default Prediction - Capstone Project.ipynb",
      "provenance": [],
      "collapsed_sections": []
    }
  },
  "cells": [
    {
      "cell_type": "markdown",
      "metadata": {
        "id": "tOGC-qoyhJeX"
      },
      "source": [
        "# <b><u> Project Title : Predicting whether a customer will default on his/her credit card </u></b>"
      ]
    },
    {
      "cell_type": "markdown",
      "metadata": {
        "id": "Y06xIdG26kRF"
      },
      "source": [
        "## <b> Problem Description </b>\n",
        "\n",
        "### This project is aimed at predicting the case of customers default payments in Taiwan. From the perspective of risk management, the result of predictive accuracy of the estimated probability of default will be more valuable than the binary result of classification - credible or not credible clients. We can use the [K-S chart](https://www.listendata.com/2019/07/KS-Statistics-Python.html) to evaluate which customers will default on their credit card payments\n"
      ]
    },
    {
      "cell_type": "markdown",
      "metadata": {
        "id": "AlLxAtlziMbP"
      },
      "source": [
        "## <b> Data Description </b>\n",
        "\n",
        "### <b>Attribute Information: </b>\n",
        "\n",
        "### This research employed a binary variable, default payment (Yes = 1, No = 0), as the response variable. This study reviewed the literature and used the following 23 variables as explanatory variables:\n",
        "* ### X1: Amount of the given credit (NT dollar): it includes both the individual consumer credit and his/her family (supplementary) credit.\n",
        "* ### X2: Gender (1 = male; 2 = female).\n",
        "* ### X3: Education (1 = graduate school; 2 = university; 3 = high school; 4 = others).\n",
        "* ### X4: Marital status (1 = married; 2 = single; 3 = others).\n",
        "* ### X5: Age (year).\n",
        "* ### X6 - X11: History of past payment. We tracked the past monthly payment records (from April to September, 2005) as follows: X6 = the repayment status in September, 2005; X7 = the repayment status in August, 2005; . . .;X11 = the repayment status in April, 2005. The measurement scale for the repayment status is: -1 = pay duly; 1 = payment delay for one month; 2 = payment delay for two months; . . .; 8 = payment delay for eight months; 9 = payment delay for nine months and above.\n",
        "* ### X12-X17: Amount of bill statement (NT dollar). X12 = amount of bill statement in September, 2005; X13 = amount of bill statement in August, 2005; . . .; X17 = amount of bill statement in April, 2005.\n",
        "* ### X18-X23: Amount of previous payment (NT dollar). X18 = amount paid in September, 2005; X19 = amount paid in August, 2005; . . .;X23 = amount paid in April, 2005."
      ]
    },
    {
      "cell_type": "markdown",
      "source": [
        "# **Business Objective:**"
      ],
      "metadata": {
        "id": "AZMQObIp0kBG"
      }
    },
    {
      "cell_type": "markdown",
      "source": [
        "\n",
        "* **Objective of our project is to predict which customer might default in upcoming months. Before going any further let's have a quick look on defination of what actually meant by Credit Card Default.** \n",
        "\n",
        "\n",
        "* **We are all aware what is credit card. It is type of payment payment card in which charges are made against a line of credit instead of the account holder's cash deposits. When someone uses a credit card to make a purchase, that person's account accrues a balance that must be paid off each month.**\n",
        "\n",
        "\n",
        "\n",
        "\n",
        "* **Credit card default happens when you have become severely delinquent on your credit card payments.Missing credit card payments once or twice does not count as a default. A payment default occurs when you fail to pay the Minimum Amount Due on the credit card for a few consecutive months.**\n",
        "\n",
        "* **So now we know what a credit card is. Now let's see one of problems faced by companies who provide credit cards. Yes it is the peolpe who do not clear off the credit card debt aka credit card defaulters**.\n",
        "\n",
        "* ***The research aims at developing a mechanism to predict the credit card default beforehand and to identify the potential customer base that can be offered various credit instruments so as to invite minimum default.***\n",
        " "
      ],
      "metadata": {
        "id": "Pi-WcZSg0m1V"
      }
    },
    {
      "cell_type": "markdown",
      "source": [
        "# **Loading Dataset and Importing Modules**"
      ],
      "metadata": {
        "id": "fryAnZ110q3U"
      }
    },
    {
      "cell_type": "code",
      "source": [
        "#let's import the modules for EDA part\n",
        "import pandas as pd\n",
        "import numpy as np\n",
        "import matplotlib.pyplot as plt\n",
        "%matplotlib inline\n",
        "import seaborn as sns\n",
        "\n",
        "import warnings\n",
        "warnings.filterwarnings('ignore')\n",
        "import pkg_resources\n"
      ],
      "metadata": {
        "id": "8u0cZNaV1Ahg"
      },
      "execution_count": 1,
      "outputs": []
    },
    {
      "cell_type": "code",
      "source": [
        "!pip install --upgrade xlrd"
      ],
      "metadata": {
        "id": "X7q5F1sh5R0p",
        "colab": {
          "base_uri": "https://localhost:8080/"
        },
        "outputId": "354bee7f-35ee-45be-a64d-9bbc86e163e0"
      },
      "execution_count": 2,
      "outputs": [
        {
          "output_type": "stream",
          "name": "stdout",
          "text": [
            "Looking in indexes: https://pypi.org/simple, https://us-python.pkg.dev/colab-wheels/public/simple/\n",
            "Requirement already satisfied: xlrd in /usr/local/lib/python3.7/dist-packages (1.1.0)\n",
            "Collecting xlrd\n",
            "  Downloading xlrd-2.0.1-py2.py3-none-any.whl (96 kB)\n",
            "\u001b[K     |████████████████████████████████| 96 kB 2.8 MB/s \n",
            "\u001b[?25hInstalling collected packages: xlrd\n",
            "  Attempting uninstall: xlrd\n",
            "    Found existing installation: xlrd 1.1.0\n",
            "    Uninstalling xlrd-1.1.0:\n",
            "      Successfully uninstalled xlrd-1.1.0\n",
            "Successfully installed xlrd-2.0.1\n"
          ]
        }
      ]
    },
    {
      "cell_type": "markdown",
      "source": [
        "##Mount the drive and import the datset"
      ],
      "metadata": {
        "id": "-2xUxW8R1E1z"
      }
    },
    {
      "cell_type": "code",
      "source": [
        "#let's mount the google drive for import the dtaset\n",
        "from google.colab import drive\n",
        "drive.mount('/content/drive')"
      ],
      "metadata": {
        "id": "eLPpUxxH1IaW"
      },
      "execution_count": null,
      "outputs": []
    },
    {
      "cell_type": "code",
      "source": [
        "#load the seol bike data set from drive\n",
        "df=pd.read_excel(\"/content/drive/MyDrive/capstone project 3 ML/default of credit card clients (1).xls\",header = 1)"
      ],
      "metadata": {
        "id": "DpJ-igcs1PSn"
      },
      "execution_count": null,
      "outputs": []
    },
    {
      "cell_type": "markdown",
      "source": [
        "# **Understand More About The Data**"
      ],
      "metadata": {
        "id": "G8H_608gQJ97"
      }
    },
    {
      "cell_type": "markdown",
      "source": [
        "###top five rows"
      ],
      "metadata": {
        "id": "goAkPNTlPA3w"
      }
    },
    {
      "cell_type": "code",
      "source": [
        "# Viewing the data of top 5 rows to take a glimps of the data\n",
        "df.head()"
      ],
      "metadata": {
        "id": "fIu4EM3gOtpH"
      },
      "execution_count": null,
      "outputs": []
    },
    {
      "cell_type": "markdown",
      "source": [
        "###bottom five rows"
      ],
      "metadata": {
        "id": "zCf0mNopPqGR"
      }
    },
    {
      "cell_type": "code",
      "source": [
        "# View the data of bottom 5 rows to take a glimps of the data\n",
        "\n",
        "df.tail()"
      ],
      "metadata": {
        "id": "ZaDvU1JVPwfm"
      },
      "execution_count": null,
      "outputs": []
    },
    {
      "cell_type": "code",
      "metadata": {
        "id": "dByMsuzT8Tnw"
      },
      "source": [
        "#Getting the shape of dataset with rows and columns\n",
        "print(df.shape)"
      ],
      "execution_count": null,
      "outputs": []
    },
    {
      "cell_type": "code",
      "source": [
        "#Getting all the columns\n",
        "print(\"Features of the dataset:\")\n",
        "df.columns"
      ],
      "metadata": {
        "id": "qwabZez9yIXN"
      },
      "execution_count": null,
      "outputs": []
    },
    {
      "cell_type": "code",
      "source": [
        "#check details about the data set\n",
        "df.info()"
      ],
      "metadata": {
        "id": "almaWBRkDdyU"
      },
      "execution_count": null,
      "outputs": []
    },
    {
      "cell_type": "code",
      "source": [
        "#print the unique value\n",
        "df.nunique()"
      ],
      "metadata": {
        "id": "zP77HNCvLjrA"
      },
      "execution_count": null,
      "outputs": []
    },
    {
      "cell_type": "code",
      "source": [
        "#Looking for the description of the dataset to get insights of the data\n",
        "df.describe().T"
      ],
      "metadata": {
        "id": "uFkPkv7JLnsI"
      },
      "execution_count": null,
      "outputs": []
    },
    {
      "cell_type": "markdown",
      "source": [
        "* ***This Dataset contains 30000 lines and 25 columns.*** \n",
        "\n",
        "* ***default payment next month is our target variable we need to focus on this***\n"
      ],
      "metadata": {
        "id": "CqlJcYN8ML5S"
      }
    },
    {
      "cell_type": "markdown",
      "source": [
        "##Features description"
      ],
      "metadata": {
        "id": "rgSuCr8IMZBj"
      }
    },
    {
      "cell_type": "markdown",
      "source": [
        "**Breakdown of Our Features:**\n",
        "\n",
        "***We have records of 30000 customers. Below are the description of all features we have***.\n",
        "\n",
        "* ***ID: ID of each client*** \n",
        "\n",
        "* ***LIMIT_BAL: Amount of given credit in NT dollars (includes individual and family/supplementary credit)***\n",
        "\n",
        "* ***SEX: Gender (1 = male, 2 = female)*** \n",
        "\n",
        "* ***EDUCATION: (1 = graduate school, 2 = university, 3 = high school, 0,4,5,6 = others)***\n",
        "\n",
        "* ***MARRIAGE: Marital status (0 = others, 1 = married, 2 = single, 3 = others)***\n",
        "\n",
        "* ***AGE: Age in years***\n",
        "\n",
        "**Scale for PAY_0 to PAY_6** : \n",
        "\n",
        "***(-2 = No consumption, -1 = paid in full, 0 = use of revolving credit (paid minimum only), 1 = payment delay for one month, 2 = payment delay for two months, ... 8 = payment delay for eight months, 9 = payment delay for nine months and above***)\n",
        "\n",
        "* ***PAY_0: Repayment status in September, 2005 (scale same as above***) \n",
        "\n",
        "* ***PAY_2: Repayment status in August, 2005 (scale same as above)***\n",
        "\n",
        "* ***PAY_3: Repayment status in July, 2005 (scale same as above)***\n",
        "\n",
        "* ***PAY_4: Repayment status in June, 2005 (scale same as above)***\n",
        "\n",
        "* ***PAY_5: Repayment status in May, 2005 (scale same as above)***\n",
        "\n",
        "* ***PAY_6: Repayment status in April, 2005 (scale same as above)***\n",
        "\n",
        "* ***BILL_AMT1: Amount of bill statement in September, 2005 (NT dollar)***\n",
        "\n",
        "* ***BILL_AMT2: Amount of bill statement in August, 2005 (NT dollar)***\n",
        "\n",
        "* ***BILL_AMT3: Amount of bill statement in July, 2005 (NT dollar)***\n",
        "\n",
        "* ***BILL_AMT4: Amount of bill statement in June, 2005 (NT dollar)***\n",
        "\n",
        "* ***BILL_AMT5: Amount of bill statement in May, 2005 (NT dollar)***\n",
        "\n",
        "* ***BILL_AMT6: Amount of bill statement in April, 2005 (NT dollar)***\n",
        "\n",
        "* ***PAY_AMT1: Amount of previous payment in September, 2005 (NT dollar)***\n",
        "* ***PAY_AMT2: Amount of previous payment in August, 2005 (NT dollar)***\n",
        "\n",
        "* ***PAY_AMT3: Amount of previous payment in July, 2005 (NT dollar)***\n",
        "\n",
        "* ***PAY_AMT4: Amount of previous payment in June, 2005 (NT dollar)***\n",
        "\n",
        "* ***PAY_AMT5: Amount of previous payment in May, 2005 (NT dollar)***\n",
        "\n",
        "* ***PAY_AMT6: Amount of previous payment in April, 2005 (NT dollar)***\n",
        "\n",
        "* ***default.payment.next.month: Default payment (1=yes, 0=no)***"
      ],
      "metadata": {
        "id": "6oCdREwd8nQd"
      }
    },
    {
      "cell_type": "markdown",
      "source": [
        "**NOTE:-**\n",
        "\n",
        " **What do 0 and -2 mean in PAY_X columns?**\n",
        "\n",
        "***From dataset documentation:***\n",
        "\n",
        "**PAY_0: Repayment status in September, 2005 (-1=pay duly, 1=payment delay for one month, 2=payment delay for two months, … 8=payment delay for eight months, 9=payment delay for nine months and above). Notice code 0 and 2 are in the PAY_X columns but are not included in the data description. Also by doing the value_counts, it shows 0 is the most frequent observation**. \n",
        " \n",
        "#### -2: No consumption; <br>-1: Paid in full; <br>0: The use of revolving credit, meaning the payment wasn't due, which makes sense that most customers were using the revolving credit."
      ],
      "metadata": {
        "id": "VDslvY-J8zXp"
      }
    },
    {
      "cell_type": "markdown",
      "source": [
        "# **Preprocessing the dataset**"
      ],
      "metadata": {
        "id": "PBD3PnZX88Hm"
      }
    },
    {
      "cell_type": "markdown",
      "source": [
        "**Why do we need to handle missing values?**\n",
        "* ***The real-world data often has a lot of missing values. The cause of missing values can be data corruption or failure to record data. The handling of missing data is very important during the preprocessing of the dataset as many machine learning algorithms do not support missing values.that's why we check missing values first*** "
      ],
      "metadata": {
        "id": "WbLQFnMrDAPk"
      }
    },
    {
      "cell_type": "markdown",
      "source": [
        "##Missing values"
      ],
      "metadata": {
        "id": "rWT7rE55DEv0"
      }
    },
    {
      "cell_type": "code",
      "source": [
        "#check for count of missing values in each column.\n",
        "df.isna().sum()\n",
        "df.isnull().sum()"
      ],
      "metadata": {
        "id": "NJbeLgroL0kC"
      },
      "execution_count": null,
      "outputs": []
    },
    {
      "cell_type": "code",
      "source": [
        "#plot the graph to check wether there are any missing value present\n",
        "missing = pd.DataFrame((df.isnull().sum())*100/df.shape[0]).reset_index()\n",
        "plt.figure(figsize=(16,5))\n",
        "ax = sns.pointplot('index',0,data=missing)\n",
        "plt.xticks(rotation =90,fontsize =7)\n",
        "plt.title(\"Percentage of Missing values\")\n",
        "plt.ylabel(\"PERCENTAGE\")\n",
        "plt.show()"
      ],
      "metadata": {
        "id": "xngM5pxkD-Vy"
      },
      "execution_count": null,
      "outputs": []
    },
    {
      "cell_type": "markdown",
      "source": [
        "* ***As we can see above there are no missing value presents thankfully***"
      ],
      "metadata": {
        "id": "myWHJ0Nd7oKs"
      }
    },
    {
      "cell_type": "markdown",
      "source": [
        "##Duplicate values"
      ],
      "metadata": {
        "id": "fWrKiUSD7wOZ"
      }
    },
    {
      "cell_type": "markdown",
      "source": [
        "**Why is it important to remove duplicate records from my data?** \n",
        "* ***\"Duplication\" just means that you have repeated data in your dataset. This could be due to things like data entry errors or data collection methods. by removing duplication in our data set,  Time and money are saved by not sending identical communications multiple times to the same person.***"
      ],
      "metadata": {
        "id": "LXYaopgtlY-y"
      }
    },
    {
      "cell_type": "code",
      "source": [
        "# Checking Duplicate Values\n",
        "value=len(df[df.duplicated()])\n",
        "print(\"The number of duplicate values in the data set is = \",value)"
      ],
      "metadata": {
        "id": "D7kc0wj67xM_"
      },
      "execution_count": null,
      "outputs": []
    },
    {
      "cell_type": "markdown",
      "source": [
        "* ***In the above data after count the missing and duplicate value we came to know that there are no missing and duplicate value present.***"
      ],
      "metadata": {
        "id": "V3Ls4XgNbYpe"
      }
    },
    {
      "cell_type": "markdown",
      "source": [
        "# **Exploratory Data Analysis**"
      ],
      "metadata": {
        "id": "NZ5DzUH7beBc"
      }
    },
    {
      "cell_type": "markdown",
      "source": [
        "**Why do we perform EDA?**\n",
        "* ***An EDA is a thorough examination meant to uncover the underlying structure of a data set and is important for a company because it exposes trends, patterns, and relationships that are not readily apparent.***"
      ],
      "metadata": {
        "id": "BEFmNU0kbiVD"
      }
    },
    {
      "cell_type": "markdown",
      "source": [
        "## **Univariate Analysis**"
      ],
      "metadata": {
        "id": "xTUeQheXbmwf"
      }
    },
    {
      "cell_type": "markdown",
      "source": [
        "**Why do you do univariate analysis?**\n",
        "* ***The key objective of Univariate analysis is to simply describe the data to find patterns within the data.*** "
      ],
      "metadata": {
        "id": "ql7Vn0glbqn9"
      }
    },
    {
      "cell_type": "markdown",
      "source": [
        "## **Analysis of Dependent Variable:**"
      ],
      "metadata": {
        "id": "W1wNuIqubwS4"
      }
    },
    {
      "cell_type": "markdown",
      "source": [
        "**What is a dependent variable in data analysis?**\n",
        "* ***we analyse our dependent variable,A dependent variable is a variable whose value will change depending on the value of another variable.***"
      ],
      "metadata": {
        "id": "k23MuiuQb2q-"
      }
    },
    {
      "cell_type": "markdown",
      "source": [
        "**What does 'default.payment.next.month' mean?**\n",
        "\n",
        "***Is it a predictor or actual data that was collected in the next month - Oct. 2005? According to the reply from the dataset contributor,it seems this is the actual data collected in the next month. \"Y: client's behavior; Y=0 then not default, Y=1 then default\". This information could be used to test the accuracy of the model that will be built.***"
      ],
      "metadata": {
        "id": "ZCqakS9_b6Uf"
      }
    },
    {
      "cell_type": "code",
      "source": [
        "#renaming for better convinience\n",
        "df.rename(columns={'default payment next month' : 'default_payment_next_month'}, inplace=True)"
      ],
      "metadata": {
        "id": "ezwaE0kebZU9"
      },
      "execution_count": null,
      "outputs": []
    },
    {
      "cell_type": "code",
      "source": [
        "# counts the dependent variable data set\n",
        "df['default_payment_next_month'].value_counts()"
      ],
      "metadata": {
        "id": "MCh2OXR5cDXv"
      },
      "execution_count": null,
      "outputs": []
    },
    {
      "cell_type": "code",
      "source": [
        "# Get the proportion of customers who had default payment in the next month  \n",
        "# About 22% customers had default payment next month\n",
        "\n",
        "df['default_payment_next_month'].value_counts(normalize=True)"
      ],
      "metadata": {
        "id": "DLvQ5q0ZcIhA"
      },
      "execution_count": null,
      "outputs": []
    },
    {
      "cell_type": "code",
      "source": [
        "#plotting the count plot to vizualize the data distribution \n",
        "#plot the count plot to check the data distribution\n",
        "plt.figure(figsize=(10,5))\n",
        "sns.countplot(x = 'default_payment_next_month', data =df)"
      ],
      "metadata": {
        "id": "tcpNKE8vcNpF"
      },
      "execution_count": null,
      "outputs": []
    },
    {
      "cell_type": "markdown",
      "source": [
        "**From the above data analysis we can say that**\n",
        "*   **0 - Not Default**\n",
        "*   **1 - Default**\n",
        "*   **Defaulters are less than the Non Defaulters in the given dataset.**\n",
        "\n"
      ],
      "metadata": {
        "id": "rwSv-6Vbctrz"
      }
    },
    {
      "cell_type": "markdown",
      "source": [
        "***As we can see from above graph that both classes are not in proportion and we have imbalanced dataset. we need to do normalize the data in next step.***\n",
        "\n",
        "\n"
      ],
      "metadata": {
        "id": "1zN11woTcxUd"
      }
    },
    {
      "cell_type": "markdown",
      "source": [
        "## **Analysis of Independent Variable:**"
      ],
      "metadata": {
        "id": "iY7btMn5c0zJ"
      }
    },
    {
      "cell_type": "markdown",
      "source": [
        "## **Categorical  Features**"
      ],
      "metadata": {
        "id": "zawhLU5Ic6PB"
      }
    },
    {
      "cell_type": "markdown",
      "source": [
        "We have few categorical features in our dataset that are***\n",
        "*   sex\n",
        "*   education\n",
        "*   marraige \n",
        "*   age\n",
        "\n",
        "***Categorical variables are qualitative data in which the values are assigned to a set of distinct groups or categories. These groups may consist of alphabetic (e.g., male, female) or numeric labels (e.g., male = 0, female = 1) that do not contain mathematical information beyond the frequency counts related to group membership.***\n",
        "\n",
        " ***Let'Check how they are related with out target class.***\n"
      ],
      "metadata": {
        "id": "I8Juh2wVZNCk"
      }
    },
    {
      "cell_type": "code",
      "source": [
        "# counts the SEX variable data set\n",
        "df['SEX'].value_counts()"
      ],
      "metadata": {
        "id": "03iqGtr7Z6cH"
      },
      "execution_count": null,
      "outputs": []
    },
    {
      "cell_type": "code",
      "source": [
        "#plotting the count plot to vizualize the data distribution\n",
        "plt.figure(figsize=(10,5))\n",
        "sns.countplot(x = 'SEX', data = df)"
      ],
      "metadata": {
        "id": "6VRLcNMgah9C"
      },
      "execution_count": null,
      "outputs": []
    },
    {
      "cell_type": "markdown",
      "source": [
        "**From the above data analysis we can say that**\n",
        "*   **1 - Male**\n",
        "*   **2 - Female**\n",
        "*   ***Number of Male credit holder is less than Female.***"
      ],
      "metadata": {
        "id": "WLeRZnsuaXR4"
      }
    },
    {
      "cell_type": "markdown",
      "source": [
        "**Education**\n",
        "\n",
        "\n",
        "\n",
        " **1 = graduate school; 2 = university; 3 = high school; 0 = others**"
      ],
      "metadata": {
        "id": "2y8ZemMLaeuw"
      }
    },
    {
      "cell_type": "code",
      "source": [
        "# counts the education  data set variable data set\n",
        "df['EDUCATION'].value_counts()"
      ],
      "metadata": {
        "id": "vaTj6npaavI0"
      },
      "execution_count": null,
      "outputs": []
    },
    {
      "cell_type": "markdown",
      "source": [
        "***'EDUCATION' column: notice 5 and 6 are both recorded as 'unknown' and there is 0 which isn't explained in the dataset description. Since the amounts are so small, let's combine 0,4,5,6 to 0 which means\"other'.***\n",
        "\n",
        "\n"
      ],
      "metadata": {
        "id": "kq6MP5Lha7KQ"
      }
    },
    {
      "cell_type": "code",
      "source": [
        "# Change values 4, 5, 6 to 0 and define 0 as 'others'\n",
        "# 1=graduate school, 2=university, 3=high school, 0=others\n",
        "\n",
        "df[\"EDUCATION\"] = df[\"EDUCATION\"].replace({4:0,5:0,6:0})\n",
        "df[\"EDUCATION\"].value_counts()"
      ],
      "metadata": {
        "id": "CW_7wbFXa58p"
      },
      "execution_count": null,
      "outputs": []
    },
    {
      "cell_type": "code",
      "source": [
        "#plotting the count plot to vizualize the data distribution\n",
        "plt.figure(figsize=(10,5))\n",
        "sns.countplot(x = 'EDUCATION', data = df)"
      ],
      "metadata": {
        "id": "TONWRpUscSA1"
      },
      "execution_count": null,
      "outputs": []
    },
    {
      "cell_type": "markdown",
      "source": [
        "**From the above data analysis we can say that**\n",
        "*   ***More number of credit holders are university students followed by Graduates and then High school students.***"
      ],
      "metadata": {
        "id": "iXn1NRT4bcru"
      }
    },
    {
      "cell_type": "markdown",
      "source": [
        "**Marriage**\n",
        "\n",
        "\n",
        "**1 = married; 2 = single; 3 = others**"
      ],
      "metadata": {
        "id": "2_3yRzTibphK"
      }
    },
    {
      "cell_type": "code",
      "source": [
        "# From dataset description: MARRIAGE: Marital status (1=married, 2=single, 3=others), but there is also 0\n",
        "\n",
        "df[\"MARRIAGE\"].unique()"
      ],
      "metadata": {
        "id": "KTVO9-BPcWzS"
      },
      "execution_count": null,
      "outputs": []
    },
    {
      "cell_type": "code",
      "source": [
        "# counts the education  data set\n",
        "df['MARRIAGE'].value_counts()"
      ],
      "metadata": {
        "id": "acAdN7i3cpVZ"
      },
      "execution_count": null,
      "outputs": []
    },
    {
      "cell_type": "code",
      "source": [
        "# How many customers had \"MARRIAGE\" status as 0?\n",
        "\n",
        "df[\"MARRIAGE\"].value_counts(normalize=True)"
      ],
      "metadata": {
        "id": "qdPSBKYzcsNJ"
      },
      "execution_count": null,
      "outputs": []
    },
    {
      "cell_type": "markdown",
      "source": [
        "***'MARRIAGE' column: what does 0 mean in 'MARRIAGE'?***\n",
        "***Since there are only 0.18% (or 54) observations of 0, we will combine 0 and 3 in one value as 'others'.***"
      ],
      "metadata": {
        "id": "aLMi3npsdhKa"
      }
    },
    {
      "cell_type": "code",
      "source": [
        "# Combine 0 and 3 by changing the value 0 into others\n",
        "\n",
        "df[\"MARRIAGE\"] = df[\"MARRIAGE\"].replace({0:3})\n",
        "df[\"MARRIAGE\"].value_counts(normalize=True)"
      ],
      "metadata": {
        "id": "U7LlxnNRdi_9"
      },
      "execution_count": null,
      "outputs": []
    },
    {
      "cell_type": "code",
      "source": [
        "#plotting the count plot to vizualize the data distribution\n",
        "plt.figure(figsize=(10,5))\n",
        "sns.countplot(x = 'MARRIAGE', data = df)"
      ],
      "metadata": {
        "id": "37mIpkXxd0do"
      },
      "execution_count": null,
      "outputs": []
    },
    {
      "cell_type": "markdown",
      "source": [
        "\n",
        "\n",
        "\n",
        "**From the above data analysis we can say that**\n",
        "*   **1 - married**\n",
        "*   **2 - single**\n",
        "*   **3 - others**\n",
        "*   ***More number of credit cards holder are Single.***\n"
      ],
      "metadata": {
        "id": "RVoJiZceeDYY"
      }
    },
    {
      "cell_type": "markdown",
      "source": [
        " **AGE**"
      ],
      "metadata": {
        "id": "p8kw4OOheK5t"
      }
    },
    {
      "cell_type": "markdown",
      "source": [
        "**Plotting graph of number of ages of all people with credit card irrespective of gender.**"
      ],
      "metadata": {
        "id": "qD90imLdeWAr"
      }
    },
    {
      "cell_type": "code",
      "source": [
        "# counts the education  data set\n",
        "df['AGE'].value_counts()"
      ],
      "metadata": {
        "id": "lfpWAHNieCl8"
      },
      "execution_count": null,
      "outputs": []
    },
    {
      "cell_type": "code",
      "source": [
        "#check the mean of the age group rescpective to the default_payment_next_month\n",
        "df.groupby('default_payment_next_month')['AGE'].mean()"
      ],
      "metadata": {
        "id": "SZjRNmO_eq3a"
      },
      "execution_count": null,
      "outputs": []
    },
    {
      "cell_type": "code",
      "source": [
        "df = df.astype('int')"
      ],
      "metadata": {
        "id": "e5NSGzEpe02f"
      },
      "execution_count": null,
      "outputs": []
    },
    {
      "cell_type": "code",
      "source": [
        "#plotting the count plot to vizualize the data distribution\n",
        "plt.figure(figsize=(15,7))\n",
        "sns.countplot(x = 'AGE', data = df)\n",
        "plt.show()"
      ],
      "metadata": {
        "id": "jEBGl5YIe57c"
      },
      "execution_count": null,
      "outputs": []
    },
    {
      "cell_type": "markdown",
      "source": [
        "**From the above data analysis we can say that**\n",
        "\n",
        "> Indented block\n",
        "\n",
        "\n",
        "*  ***We can see more number of credit cards holder age are between 26-30 years old.***\n",
        "*  ***Age above 60 years old rarely uses the credit card.***\n",
        "\n"
      ],
      "metadata": {
        "id": "vILFY8-_fHY7"
      }
    },
    {
      "cell_type": "code",
      "source": [
        "#plotting the box plot to vizualize the data distribution\n",
        "plt.figure(figsize=(10,10))\n",
        "ax = sns.boxplot(x=\"default_payment_next_month\", y=\"AGE\", data=df)"
      ],
      "metadata": {
        "id": "MhSfLC2EfG1w"
      },
      "execution_count": null,
      "outputs": []
    },
    {
      "cell_type": "markdown",
      "source": [
        "## **Numerical features**\n"
      ],
      "metadata": {
        "id": "hfh5WKYf6c84"
      }
    },
    {
      "cell_type": "markdown",
      "source": [
        "**What is Numerical Data**\n",
        "\n",
        "* ***Numerical data is a data type expressed in numbers, rather than natural language description. Sometimes called quantitative data, numerical data is always collected in number form. Numerical data differentiates itself from other number form data types with its ability to carry out arithmetic operations with these numbers.***"
      ],
      "metadata": {
        "id": "dyy7FixE6ia6"
      }
    },
    {
      "cell_type": "markdown",
      "source": [
        "### **Limit Balance**"
      ],
      "metadata": {
        "id": "7WU3KAfa6mfq"
      }
    },
    {
      "cell_type": "code",
      "source": [
        "# describe  the limit balance  data set\n",
        "df['LIMIT_BAL'].describe()"
      ],
      "metadata": {
        "id": "IvTiYhql5k2k"
      },
      "execution_count": null,
      "outputs": []
    },
    {
      "cell_type": "markdown",
      "source": [
        "***Distribution of LIMIT_BAL.***"
      ],
      "metadata": {
        "id": "LGVUZi0U6t_K"
      }
    },
    {
      "cell_type": "code",
      "source": [
        "#plotting the dist plot to vizualize the data distribution\n",
        "plt.figure(figsize=(10,5))\n",
        "sns.distplot(df['LIMIT_BAL'], kde=True)\n",
        "plt.show()"
      ],
      "metadata": {
        "id": "X4eZzE7h6yJ5"
      },
      "execution_count": null,
      "outputs": []
    },
    {
      "cell_type": "markdown",
      "source": [
        "**From the above data analysis we can say that**\n",
        "* ***Maximum amount of given credit in NT dollars is 50,000 followed by 30,000 and 20,000.***"
      ],
      "metadata": {
        "id": "Pgat015b66lz"
      }
    },
    {
      "cell_type": "code",
      "source": [
        "#plotting the bar plot to vizualize the data distribution\n",
        "sns.barplot(x='default_payment_next_month', y='LIMIT_BAL', data=df)"
      ],
      "metadata": {
        "id": "hVVGUu5O6qmW"
      },
      "execution_count": null,
      "outputs": []
    },
    {
      "cell_type": "code",
      "source": [
        "#plotting the box plot to vizualize the data distribution\n",
        "plt.figure(figsize=(10,10))\n",
        "ax = sns.boxplot(x=\"default_payment_next_month\", y=\"LIMIT_BAL\", data=df)"
      ],
      "metadata": {
        "id": "X4LZErpk6_QU"
      },
      "execution_count": null,
      "outputs": []
    },
    {
      "cell_type": "markdown",
      "source": [
        "\n",
        "\n",
        "##**Renaming columns**"
      ],
      "metadata": {
        "id": "LYQajdZK7L15"
      }
    },
    {
      "cell_type": "code",
      "source": [
        "#renaming columns \n",
        "\n",
        "df.rename(columns={'PAY_0':'PAY_SEPT','PAY_2':'PAY_AUG','PAY_3':'PAY_JUL','PAY_4':'PAY_JUN','PAY_5':'PAY_MAY','PAY_6':'PAY_APR'},inplace=True)\n",
        "df.rename(columns={'BILL_AMT1':'BILL_AMT_SEPT','BILL_AMT2':'BILL_AMT_AUG','BILL_AMT3':'BILL_AMT_JUL','BILL_AMT4':'BILL_AMT_JUN','BILL_AMT5':'BILL_AMT_MAY','BILL_AMT6':'BILL_AMT_APR'}, inplace = True)\n",
        "df.rename(columns={'PAY_AMT1':'PAY_AMT_SEPT','PAY_AMT2':'PAY_AMT_AUG','PAY_AMT3':'PAY_AMT_JUL','PAY_AMT4':'PAY_AMT_JUN','PAY_AMT5':'PAY_AMT_MAY','PAY_AMT6':'PAY_AMT_APR'},inplace=True)"
      ],
      "metadata": {
        "id": "RZH8IFEk7Hsq"
      },
      "execution_count": null,
      "outputs": []
    },
    {
      "cell_type": "code",
      "source": [
        "#check details about the data set\n",
        "df.info()"
      ],
      "metadata": {
        "id": "BC_wc0aR8Qtt"
      },
      "execution_count": null,
      "outputs": []
    },
    {
      "cell_type": "code",
      "source": [
        "#top ten rows \n",
        "df.head()"
      ],
      "metadata": {
        "id": "Qu_q5xXD-J-x"
      },
      "execution_count": null,
      "outputs": []
    },
    {
      "cell_type": "markdown",
      "source": [
        "###**Total Bill Amount**"
      ],
      "metadata": {
        "id": "hfsnMugYE9Qw"
      }
    },
    {
      "cell_type": "markdown",
      "source": [
        "**What does SNS Pairplot do?**\n",
        "* ***pairplot. Plot pairwise relationships in a dataset. By default, this function will create a grid of Axes such that each numeric variable in data will by shared across the y-axes across a single row and the x-axes across a single column.***"
      ],
      "metadata": {
        "id": "rM3yPtXnOZ-c"
      }
    },
    {
      "cell_type": "code",
      "source": [
        "#assign the bill amount variable to a single variable \n",
        "total_bill_amnt_df = df[['BILL_AMT_SEPT',\t'BILL_AMT_AUG',\t'BILL_AMT_JUL',\t'BILL_AMT_JUN',\t'BILL_AMT_MAY',\t'BILL_AMT_APR']]\n",
        "total_bill_amnt_df.head()"
      ],
      "metadata": {
        "id": "h88Yi9KTG3O2"
      },
      "execution_count": null,
      "outputs": []
    },
    {
      "cell_type": "code",
      "source": [
        "#plotting the pair plot for bill amount \n",
        "sns.pairplot(data = total_bill_amnt_df)"
      ],
      "metadata": {
        "id": "gsmp8UZpPruD"
      },
      "execution_count": null,
      "outputs": []
    },
    {
      "cell_type": "markdown",
      "source": [
        " **Previous payment status**"
      ],
      "metadata": {
        "id": "WbLDQEs9Qxyt"
      }
    },
    {
      "cell_type": "code",
      "source": [
        "#plotting the count plot for Previous payment status\n",
        "pre_payment = ['PAY_SEPT',\t'PAY_AUG',\t'PAY_JUL',\t'PAY_JUN',\t'PAY_MAY',\t'PAY_APR']\n",
        "for col in pre_payment:\n",
        "  plt.figure(figsize=(10,5))\n",
        "  sns.countplot(x = col, hue = 'default_payment_next_month', data = df)"
      ],
      "metadata": {
        "id": "A7boWbMkQyNl"
      },
      "execution_count": null,
      "outputs": []
    },
    {
      "cell_type": "markdown",
      "source": [
        "###**Paid Amount**"
      ],
      "metadata": {
        "id": "MavX6ZWPRgCx"
      }
    },
    {
      "cell_type": "code",
      "source": [
        "#assign the Paid Amount variable to a single variable \n",
        "pay_amnt_df = df[['PAY_AMT_SEPT',\t'PAY_AMT_AUG',\t'PAY_AMT_JUL',\t'PAY_AMT_JUN',\t'PAY_AMT_MAY',\t'PAY_AMT_APR', 'default_payment_next_month']]"
      ],
      "metadata": {
        "id": "UcRov_GaRgtW"
      },
      "execution_count": null,
      "outputs": []
    },
    {
      "cell_type": "code",
      "source": [
        "#plotting the pair plot for paid amount\n",
        "sns.pairplot(data = pay_amnt_df, hue='default_payment_next_month')"
      ],
      "metadata": {
        "id": "6bfuRj8AS0xj"
      },
      "execution_count": null,
      "outputs": []
    },
    {
      "cell_type": "code",
      "source": [
        "df.shape"
      ],
      "metadata": {
        "id": "wovs5oAWTYDg"
      },
      "execution_count": null,
      "outputs": []
    },
    {
      "cell_type": "markdown",
      "source": [
        "#**Bivariate Analysis**"
      ],
      "metadata": {
        "id": "ERYhAWSjU1k4"
      }
    },
    {
      "cell_type": "markdown",
      "source": [
        "**what is bivariate analysis**\n",
        "* ***Bivariate analysis is one of the simplest forms of quantitative analysis. It involves the analysis of two variables, for the purpose of determining the empirical relationship between them. Bivariate analysis can be helpful in testing simple hypotheses of association***"
      ],
      "metadata": {
        "id": "L4hHwgAnU7hA"
      }
    },
    {
      "cell_type": "markdown",
      "source": [
        "**Sex and default_payment_next_month**"
      ],
      "metadata": {
        "id": "Enz6Wh33Vp-O"
      }
    },
    {
      "cell_type": "code",
      "source": [
        "#plotting the cat plot to vizualize the data distribution related to the default_payment_next_month\n",
        "x,y = 'SEX', 'default_payment_next_month'\n",
        "\n",
        "(df\n",
        ".groupby(x)[y]\n",
        ".value_counts(normalize=True)\n",
        ".mul(100)\n",
        ".rename('percent')\n",
        ".reset_index()\n",
        ".pipe((sns.catplot,'data'), x=x,y='percent',hue=y,kind='bar'))"
      ],
      "metadata": {
        "id": "UVTJwJL-U2Fo"
      },
      "execution_count": null,
      "outputs": []
    },
    {
      "cell_type": "markdown",
      "source": [
        "* ***It is evident from the above graph that the number of defaulter have high proportion of males.***"
      ],
      "metadata": {
        "id": "yR6NSkydXI5C"
      }
    },
    {
      "cell_type": "markdown",
      "source": [
        "### **Education and default_payment_next_month**"
      ],
      "metadata": {
        "id": "iB2E8UqyQnTO"
      }
    },
    {
      "cell_type": "code",
      "source": [
        "#plotting the cat plot to vizualize the data distribution related to the default_payment_next_month\n",
        "x,y = 'EDUCATION', 'default_payment_next_month'\n",
        "\n",
        "(df\n",
        ".groupby(x)[y]\n",
        ".value_counts(normalize=True)\n",
        ".mul(100)\n",
        ".rename('percent')\n",
        ".reset_index()\n",
        ".pipe((sns.catplot,'data'), x=x,y='percent',hue=y,kind='bar'))"
      ],
      "metadata": {
        "id": "ekqxym3aXORK"
      },
      "execution_count": null,
      "outputs": []
    },
    {
      "cell_type": "markdown",
      "source": [
        "* ***From the above plot it is clear that those people who are other students have higher default payment wrt graduates and university people***"
      ],
      "metadata": {
        "id": "mlB5laU4Q9e-"
      }
    },
    {
      "cell_type": "markdown",
      "source": [
        "###**Marriage and default_payment_next_month**"
      ],
      "metadata": {
        "id": "O7ISGtM8RKK2"
      }
    },
    {
      "cell_type": "code",
      "source": [
        "#plotting the cat plot to vizualize the data distribution related to the default_payment_next_month\n",
        "x,y = 'MARRIAGE', 'default_payment_next_month'\n",
        "\n",
        "(df\n",
        ".groupby(x)[y]\n",
        ".value_counts(normalize=True)\n",
        ".mul(100)\n",
        ".rename('percent')\n",
        ".reset_index()\n",
        ".pipe((sns.catplot,'data'), x=x,y='percent',hue=y,kind='bar'))"
      ],
      "metadata": {
        "id": "w5fCPr3HQ2wm"
      },
      "execution_count": null,
      "outputs": []
    },
    {
      "cell_type": "markdown",
      "source": [
        "* ***High defaulter rate when it comes to others*** "
      ],
      "metadata": {
        "id": "bRRx6ZcJRl4l"
      }
    },
    {
      "cell_type": "markdown",
      "source": [
        "### **Age and default_payment_next_month**"
      ],
      "metadata": {
        "id": "SBQ40j_1RsiK"
      }
    },
    {
      "cell_type": "code",
      "source": [
        "#plotting the bar plot to vizualize the data distribution related to the default_payment_next_month\n",
        "plt.figure(figsize=(19,7))\n",
        "sns.barplot(x = 'AGE', y = 'default_payment_next_month', data = df)\n",
        "\n",
        "plt.show()"
      ],
      "metadata": {
        "id": "v2cWoNVnRa3R"
      },
      "execution_count": null,
      "outputs": []
    },
    {
      "cell_type": "markdown",
      "source": [
        "* **Slightly higher defaulter rate in  60's**. \n",
        "\n",
        "\n"
      ],
      "metadata": {
        "id": "z-TdsyvkR6Lh"
      }
    },
    {
      "cell_type": "markdown",
      "source": [
        "##**Checking of Correlation between variables**"
      ],
      "metadata": {
        "id": "KZfB_tuOR_8f"
      }
    },
    {
      "cell_type": "markdown",
      "source": [
        "* **we check correletion betweeen variables using Correlation heatmap, it is graphical representation of correlation matrix representing correlation between different variables**"
      ],
      "metadata": {
        "id": "5vvtIqFISUqD"
      }
    },
    {
      "cell_type": "code",
      "source": [
        "#plotting the heatmap \n",
        "plt.figure(figsize=(20,15))\n",
        "sns.heatmap(df.corr(),annot=True,cmap=\"coolwarm\")"
      ],
      "metadata": {
        "id": "t_x6ytkrRx6L"
      },
      "execution_count": null,
      "outputs": []
    },
    {
      "cell_type": "markdown",
      "source": [
        "* ***It seems from the above graph is there are some negatively correlated feature like age but we cannot blindly remove this feature because it could be important feature for prediction.*** \n",
        "* ***ID is unimportant and it has no role in prediction so we will remove it.***\n"
      ],
      "metadata": {
        "id": "ePMSSw6OSjtK"
      }
    },
    {
      "cell_type": "markdown",
      "source": [
        "#**SMOTE**"
      ],
      "metadata": {
        "id": "EmhL549WSvtM"
      }
    },
    {
      "cell_type": "markdown",
      "source": [
        "* ***In our data set we have  Imbalanced Data Distribution in our dependent variable, it  generally happens when observations in one of the class are much higher i.e not defaulter or lower than the other classes i.e defaulter.***\n",
        "\n",
        "* ***As Machine Learning algorithms tend to increase accuracy by reducing the error, they do not consider the class distribution.***\n",
        "\n",
        "* ***Standard ML techniques such as Decision Tree and Logistic Regression have a bias towards the majority class, and they tend to ignore the minority class. They tend only to predict the majority class, hence, having major misclassification of the minority class in comparison with the majority class. In more technical words, if we have imbalanced data distribution in our dataset then our model becomes more prone to the case when the minority class has a negligible or very lesser recall.***\n",
        " \n",
        "***SMOTE***\n",
        "\n",
        "* ***SMOTE (Synthetic Minority Oversampling Technique) – Oversampling is one of the most commonly used oversampling methods to solve the imbalance problem. \n",
        "It aims to balance class distribution by randomly increasing minority class examples by replicating them.*** \n",
        " "
      ],
      "metadata": {
        "id": "AXT6lC1AWizN"
      }
    },
    {
      "cell_type": "code",
      "source": [
        "#import the module \n",
        "from imblearn.over_sampling import SMOTE\n",
        "\n",
        "smote = SMOTE()\n",
        "\n",
        "# fit predictor and target variable\n",
        "x_smote, y_smote = smote.fit_resample(df.iloc[:,0:-1], df['default_payment_next_month'])\n",
        "\n",
        "print('Original dataset shape', len(df))\n",
        "print('Resampled dataset shape', len(y_smote))"
      ],
      "metadata": {
        "id": "lMOHxUQ7Sxuf"
      },
      "execution_count": null,
      "outputs": []
    },
    {
      "cell_type": "code",
      "source": [
        "x_smote"
      ],
      "metadata": {
        "id": "pVgVQ8vvhOfI"
      },
      "execution_count": null,
      "outputs": []
    },
    {
      "cell_type": "code",
      "source": [
        "columns = list(df.columns)"
      ],
      "metadata": {
        "id": "qiO51cRUhk8F"
      },
      "execution_count": null,
      "outputs": []
    },
    {
      "cell_type": "code",
      "source": [
        "columns.pop()"
      ],
      "metadata": {
        "id": "Rc7XPP9-hyXb"
      },
      "execution_count": null,
      "outputs": []
    },
    {
      "cell_type": "code",
      "source": [
        "balance_df = pd.DataFrame(x_smote, columns=columns)"
      ],
      "metadata": {
        "id": "gFyPv8Fjh4Qa"
      },
      "execution_count": null,
      "outputs": []
    },
    {
      "cell_type": "code",
      "source": [
        "balance_df['default_payment_next_month'] = y_smote"
      ],
      "metadata": {
        "id": "DbvpK5AAiPQ5"
      },
      "execution_count": null,
      "outputs": []
    },
    {
      "cell_type": "code",
      "source": [
        "#plot the count plot after smote\n",
        "sns.countplot('default_payment_next_month', data = balance_df)"
      ],
      "metadata": {
        "id": "7QUg6WWRiUza"
      },
      "execution_count": null,
      "outputs": []
    },
    {
      "cell_type": "code",
      "source": [
        "balance_df[balance_df['default_payment_next_month']==1]"
      ],
      "metadata": {
        "id": "y8aPyJtIiX-Z"
      },
      "execution_count": null,
      "outputs": []
    },
    {
      "cell_type": "markdown",
      "source": [
        "# **Feature Engineering**"
      ],
      "metadata": {
        "id": "1CK0XXGdicGL"
      }
    },
    {
      "cell_type": "code",
      "source": [
        "#save a copy file in other variable\n",
        "df_copy = balance_df.copy()"
      ],
      "metadata": {
        "id": "484gF2VVicuY"
      },
      "execution_count": null,
      "outputs": []
    },
    {
      "cell_type": "code",
      "source": [
        "#assign the the sum of payment value in one \n",
        "df_copy['total_Payement_Value'] = df_copy['PAY_SEPT'] + df_copy['PAY_AUG'] + df_copy['PAY_JUL'] + df_copy['PAY_JUN'] + df_copy['PAY_MAY'] + df_copy['PAY_APR']"
      ],
      "metadata": {
        "id": "jmeusm5WYx22"
      },
      "execution_count": null,
      "outputs": []
    },
    {
      "cell_type": "code",
      "source": [
        "#check the correlation by using mean\n",
        "df_copy.groupby('default_payment_next_month')['total_Payement_Value'].mean()"
      ],
      "metadata": {
        "id": "ivw1cpapY207"
      },
      "execution_count": null,
      "outputs": []
    },
    {
      "cell_type": "code",
      "source": [
        "#plotting the box plot \n",
        "plt.figure(figsize=(10,10))\n",
        "sns.boxplot(data = df_copy, x = 'default_payment_next_month', y = 'total_Payement_Value' )"
      ],
      "metadata": {
        "id": "lsjiOWbQY5fl"
      },
      "execution_count": null,
      "outputs": []
    },
    {
      "cell_type": "code",
      "source": [
        "#create a new column due by calculating the sum of total bill ammount substract it from the total amont paid\n",
        "df_copy['Dues'] = (df_copy['BILL_AMT_APR']+df_copy['BILL_AMT_MAY']+df_copy['BILL_AMT_JUN']+df_copy['BILL_AMT_JUL']+df_copy['BILL_AMT_SEPT'])-(df_copy['PAY_AMT_APR']+df_copy['PAY_AMT_MAY']+df_copy['PAY_AMT_JUN']+df_copy['PAY_AMT_JUL']+df_copy['PAY_AMT_AUG']+df_copy['PAY_AMT_SEPT'])"
      ],
      "metadata": {
        "id": "QmtvhcUCY9sF"
      },
      "execution_count": null,
      "outputs": []
    },
    {
      "cell_type": "code",
      "source": [
        "#check the mean to calculate the correletion \n",
        "df_copy.groupby('default_payment_next_month')['Dues'].mean()"
      ],
      "metadata": {
        "id": "CAJHTroVZAdX"
      },
      "execution_count": null,
      "outputs": []
    },
    {
      "cell_type": "code",
      "source": [
        "df_copy.replace({'SEX': {1 : 'MALE', 2 : 'FEMALE'},\n",
        "                        'EDUCATION' : {1 : 'graduate school', 2 : 'university', 3 : 'high school', 0 : 'others'},\n",
        "                        'MARRIAGE' : {1 : 'married', 2 : 'single', 3 : 'others'}}, inplace = True)"
      ],
      "metadata": {
        "id": "XAqD5lbQZDpW"
      },
      "execution_count": null,
      "outputs": []
    },
    {
      "cell_type": "code",
      "source": [
        "#final data set\n",
        "df_copy.head()"
      ],
      "metadata": {
        "id": "AVgSxBkkZGzj"
      },
      "execution_count": null,
      "outputs": []
    },
    {
      "cell_type": "markdown",
      "source": [
        "# **One Hot Encoding**"
      ],
      "metadata": {
        "id": "5O3Q88jcZKla"
      }
    },
    {
      "cell_type": "markdown",
      "source": [
        "* ***One hot encoding is a process by which categorical variables are converted into a form that could be provided to ML algorithms to do a better job in prediction.***\n",
        "* ***here we perform one hot encoding on 'EDUCATION','MARRIAGE','PAY_SEPT',\t'PAY_AUG',\t'PAY_JUL',\t'PAY_JUN',\t'PAY_MAY',\t'PAY_APR'***"
      ],
      "metadata": {
        "id": "Cvik6MNabbkD"
      }
    },
    {
      "cell_type": "code",
      "source": [
        "df_copy.info()"
      ],
      "metadata": {
        "id": "iL32Ugr8bSxc"
      },
      "execution_count": null,
      "outputs": []
    },
    {
      "cell_type": "code",
      "source": [
        "#get dummies \n",
        "df_copy = pd.get_dummies(df_copy,columns=['EDUCATION','MARRIAGE'])"
      ],
      "metadata": {
        "id": "Pl4zld3gZLJR"
      },
      "execution_count": null,
      "outputs": []
    },
    {
      "cell_type": "code",
      "source": [
        "#get dummies\n",
        "df_copy = pd.get_dummies(df_copy, columns = ['PAY_SEPT',\t'PAY_AUG',\t'PAY_JUL',\t'PAY_JUN',\t'PAY_MAY',\t'PAY_APR'], drop_first = True )"
      ],
      "metadata": {
        "id": "z8lUJ8bFKwwX"
      },
      "execution_count": null,
      "outputs": []
    },
    {
      "cell_type": "code",
      "source": [
        "# LABEL ENCODING FOR SEX\n",
        "encoders_nums = {\n",
        "                 \"SEX\":{\"FEMALE\": 0, \"MALE\": 1}\n",
        "}\n",
        "credit_df_copy = df_copy.replace(encoders_nums)"
      ],
      "metadata": {
        "id": "RlAspa_cKwea"
      },
      "execution_count": null,
      "outputs": []
    },
    {
      "cell_type": "code",
      "source": [
        "df_copy.drop('ID',axis = 1, inplace = True)"
      ],
      "metadata": {
        "id": "-UgGn4aEKwK0"
      },
      "execution_count": null,
      "outputs": []
    },
    {
      "cell_type": "code",
      "source": [
        "df_copy.columns"
      ],
      "metadata": {
        "id": "PG4GwnjrK28g"
      },
      "execution_count": null,
      "outputs": []
    },
    {
      "cell_type": "code",
      "source": [
        "df_copy.shape"
      ],
      "metadata": {
        "id": "d1NvApLyLTKj"
      },
      "execution_count": null,
      "outputs": []
    },
    {
      "cell_type": "code",
      "source": [
        "df_copy.head()"
      ],
      "metadata": {
        "id": "ePFbYntvLbCR"
      },
      "execution_count": null,
      "outputs": []
    },
    {
      "cell_type": "markdown",
      "source": [
        "#**Modeling** "
      ],
      "metadata": {
        "id": "gXryWbE7LkBE"
      }
    },
    {
      "cell_type": "markdown",
      "source": [
        "## **Performance Metrics**\n",
        "* **Precision** is a good metric to use when the costs of **false positive(FP)** is high.\n",
        "\n",
        "  **Precision = TP / (TP + FP)**\n",
        "\n",
        "* **Recall** is a good metric to use when the cost associated with **false negative(FN)** is high.\n",
        "\n",
        "  **Recall = TP / (TP + FN)**\n",
        "\n",
        "* **F1-score** is a weighted average of **precision** and **recall**. Thus, it considers **FP** and **FN.** This metric is very useful when we have uneven class distribution, as it seeks a balance between **precision** and **recall.**\n",
        "\n",
        "  **F1-score = 2 * (precision * recall) / (precision + recall)**"
      ],
      "metadata": {
        "id": "TrmVFlRQLyWA"
      }
    },
    {
      "cell_type": "markdown",
      "source": [
        "## **Note**\n",
        "* In this classification problem there is a high cost for the bank when a default credit card is predicted as non-default, since no actions can be taken. Thus, we will give **recall** more importance ."
      ],
      "metadata": {
        "id": "vm-J_iOAMAxQ"
      }
    },
    {
      "cell_type": "markdown",
      "source": [
        "## **Import Packages for performing models**"
      ],
      "metadata": {
        "id": "GWzHqE4eMKCv"
      }
    },
    {
      "cell_type": "code",
      "source": [
        "from sklearn.preprocessing import StandardScaler\n",
        "from sklearn.model_selection import train_test_split\n",
        "from sklearn.linear_model import LogisticRegression\n",
        "from sklearn.model_selection import GridSearchCV\n",
        "from sklearn.svm import SVC\n",
        "from sklearn.metrics import accuracy_score, recall_score, precision_score, f1_score, roc_auc_score, confusion_matrix, roc_curve, auc\n",
        "\n",
        "from sklearn import metrics  \n",
        "from sklearn.metrics import roc_auc_score\n",
        "from sklearn.metrics import confusion_matrix\n",
        "from sklearn.metrics import plot_confusion_matrix\n",
        "from sklearn.metrics import classification_report\n",
        "from sklearn.metrics import plot_roc_curve\n",
        "from sklearn.metrics import precision_recall_curve\n",
        "from sklearn.metrics import plot_precision_recall_curve\n"
      ],
      "metadata": {
        "id": "twINy80kLkcR"
      },
      "execution_count": null,
      "outputs": []
    },
    {
      "cell_type": "markdown",
      "source": [
        "# **Implementing Logistic Regression**"
      ],
      "metadata": {
        "id": "S-MesKMqMWYB"
      }
    },
    {
      "cell_type": "markdown",
      "source": [
        "L*ogistic Regression is one of the simplest algorithms which estimates the relationship between one dependent binary variable and independent variables, computing the probability of occurrence of an event. The regulation parameter C controls the trade-off between increasing complexity (overfitting) and keeping the model simple (underfitting). For large values of C, the power of regulation is reduced and the model increases its complexity, thus overfitting the data.*"
      ],
      "metadata": {
        "id": "QLJb9tQnMYwe"
      }
    },
    {
      "cell_type": "code",
      "source": [
        "#make a copy\n",
        "df_logistic = df_copy.copy()"
      ],
      "metadata": {
        "id": "lR5WnNdyMWyB"
      },
      "execution_count": null,
      "outputs": []
    },
    {
      "cell_type": "code",
      "source": [
        "#show the first 5 column\n",
        "df_logistic.head()"
      ],
      "metadata": {
        "id": "hfpW47WNMi-L"
      },
      "execution_count": null,
      "outputs": []
    },
    {
      "cell_type": "code",
      "source": [
        "df_logistic.loc[:, df_logistic.columns!='SEX'].astype('int64')\n"
      ],
      "metadata": {
        "id": "X2iXaqLHk0iR"
      },
      "execution_count": null,
      "outputs": []
    },
    {
      "cell_type": "code",
      "source": [
        "df_logistic.info()"
      ],
      "metadata": {
        "id": "R3Y0xQUXlyVS"
      },
      "execution_count": null,
      "outputs": []
    },
    {
      "cell_type": "markdown",
      "source": [
        "##train test split data set"
      ],
      "metadata": {
        "id": "KB1Tum7dMlY-"
      }
    },
    {
      "cell_type": "code",
      "source": [
        "#define the X and y value\n",
        "X = df_logistic.drop(['default_payment_next_month','total_Payement_Value','Dues'],axis=1)\n",
        "y = df_logistic['default_payment_next_month']"
      ],
      "metadata": {
        "id": "XbyZCuzcMlt1"
      },
      "execution_count": null,
      "outputs": []
    },
    {
      "cell_type": "code",
      "source": [
        ""
      ],
      "metadata": {
        "id": "vP2Q841NMqW3"
      },
      "execution_count": null,
      "outputs": []
    },
    {
      "cell_type": "code",
      "source": [
        "X['MyColumnName'] = df['MyColumnName'].astype('float64') "
      ],
      "metadata": {
        "id": "iKXxyvDsblO6"
      },
      "execution_count": null,
      "outputs": []
    },
    {
      "cell_type": "code",
      "source": [
        "X.head()"
      ],
      "metadata": {
        "id": "h5hxRoxQfxuj"
      },
      "execution_count": null,
      "outputs": []
    },
    {
      "cell_type": "code",
      "source": [
        "#standardise the x value by using satandardscaler\n",
        "scaler = StandardScaler()\n",
        "X = scaler.fit_transform(X)"
      ],
      "metadata": {
        "id": "ViOzxiB2XI1c"
      },
      "execution_count": null,
      "outputs": []
    },
    {
      "cell_type": "code",
      "source": [
        "#split the data set\n",
        "X_train, X_test, y_train, y_test = train_test_split(X, y, test_size=0.33, random_state=42, stratify = y)"
      ],
      "metadata": {
        "id": "lzur1LJNMqQZ"
      },
      "execution_count": null,
      "outputs": []
    },
    {
      "cell_type": "markdown",
      "source": [
        "**What is GridSearchCV?** \n",
        "* ***GridSearchCV is a library function that is a member of sklearn's model_selection package. It helps to loop through predefined hyperparameters and fit our estimator (model) on your training set. So, in the end, we can select the best parameters from the listed hyperparameters***."
      ],
      "metadata": {
        "id": "t7Yu_Bt9MxDu"
      }
    },
    {
      "cell_type": "code",
      "source": [
        "pip install -U scikit-learn"
      ],
      "metadata": {
        "id": "HQQbazECkcrF"
      },
      "execution_count": null,
      "outputs": []
    },
    {
      "cell_type": "code",
      "source": [
        "#set the parmeter\n",
        "param_grid = {'penalty':['l1','l2'], 'C' : [0.001, 0.01, 0.1, 1, 10, 100, 1000] }"
      ],
      "metadata": {
        "id": "42R9-DoXMxYY"
      },
      "execution_count": null,
      "outputs": []
    },
    {
      "cell_type": "code",
      "source": [
        "#fit the parameter \n",
        "grid_lr_clf = GridSearchCV(LogisticRegression(), param_grid, scoring = 'accuracy', n_jobs = -1, verbose = 3, cv = 3)\n",
        "grid_lr_clf.fit(X_train, y_train)"
      ],
      "metadata": {
        "id": "_zRHTNndYQ9e"
      },
      "execution_count": null,
      "outputs": []
    },
    {
      "cell_type": "code",
      "source": [
        "optimized_clf = grid_lr_clf.best_estimator_"
      ],
      "metadata": {
        "id": "r3n8_XSMNEP5"
      },
      "execution_count": null,
      "outputs": []
    },
    {
      "cell_type": "code",
      "source": [
        "grid_lr_clf.best_params_"
      ],
      "metadata": {
        "id": "2zHzSKMHNENA"
      },
      "execution_count": null,
      "outputs": []
    },
    {
      "cell_type": "code",
      "source": [
        "grid_lr_clf.best_score_"
      ],
      "metadata": {
        "id": "HWXiENshNEJg"
      },
      "execution_count": null,
      "outputs": []
    },
    {
      "cell_type": "code",
      "source": [
        "# Predicted Probability\n",
        "train_preds = optimized_clf.predict_proba(X_train)[:,1]\n",
        "test_preds = optimized_clf.predict_proba(X_test)[:,1]"
      ],
      "metadata": {
        "id": "BPK7p7m2NEGl"
      },
      "execution_count": null,
      "outputs": []
    },
    {
      "cell_type": "code",
      "source": [
        "# Get the predicted classes\n",
        "train_class_preds = optimized_clf.predict(X_train)\n",
        "test_class_preds = optimized_clf.predict(X_test)"
      ],
      "metadata": {
        "id": "IN58SUTMNLCq"
      },
      "execution_count": null,
      "outputs": []
    },
    {
      "cell_type": "markdown",
      "source": [
        "## Model Evaluation"
      ],
      "metadata": {
        "id": "_dYg5rjvNX2z"
      }
    },
    {
      "cell_type": "code",
      "source": [
        "# Get the accuracy scores\n",
        "train_accuracy_lr = accuracy_score(train_class_preds,y_train)\n",
        "test_accuracy_lr = accuracy_score(test_class_preds,y_test)\n",
        "\n",
        "print(\"The accuracy on train data is \", train_accuracy_lr)\n",
        "print(\"The accuracy on test data is \", test_accuracy_lr)"
      ],
      "metadata": {
        "id": "MMVMvoFtNYJf"
      },
      "execution_count": null,
      "outputs": []
    },
    {
      "cell_type": "code",
      "source": [
        "#print the accuracy,precission,recall,f1,roc_score \n",
        "test_accuracy_lr = accuracy_score(test_class_preds,y_test)\n",
        "test_precision_score_lr = precision_score(test_class_preds,y_test)\n",
        "test_recall_score_lr = recall_score(test_class_preds,y_test)\n",
        "test_f1_score_lr = f1_score(test_class_preds,y_test)\n",
        "test_roc_score_lr = roc_auc_score(test_class_preds,y_test)\n",
        "\n",
        "print(\"The accuracy on test data is \", test_accuracy_lr)\n",
        "print(\"The precision on test data is \", test_precision_score_lr)\n",
        "print(\"The recall on test data is \", test_recall_score_lr)\n",
        "print(\"The f1 on test data is \", test_f1_score_lr)\n",
        "print(\"The roc_score on test data is \", test_roc_score_lr)"
      ],
      "metadata": {
        "id": "_cRSsnFANamC"
      },
      "execution_count": null,
      "outputs": []
    },
    {
      "cell_type": "markdown",
      "source": [
        "**from the above evalution we get the results as below**\n",
        "* The accuracy on test data is  **0.7553984825886778**\n",
        "* The precision on test data is **0.6936446173800259**\n",
        "* The recall on test data is **0.7913583900562297**\n",
        "* The f1 on test data is **0.7392867016864806**\n",
        "* The roc_score on test data is  **0.7593522874903104**\n"
      ],
      "metadata": {
        "id": "HMBdh3z-Ngaf"
      }
    },
    {
      "cell_type": "markdown",
      "source": [
        "**We have implemented logistic regression and we getting f1-sore approx 73%. As we have imbalanced dataset, F1- score is better parameter. Let's go ahead with other models and see if they can yield better result.**"
      ],
      "metadata": {
        "id": "7IilIwkBNjcO"
      }
    },
    {
      "cell_type": "markdown",
      "source": [
        "## Confusion Matrix"
      ],
      "metadata": {
        "id": "x9X-vPAKNmDH"
      }
    },
    {
      "cell_type": "markdown",
      "source": [
        "**Confusion Matrix is a performance measurement for machine learning classification problem where output can be two or more classes. It is a table with 4 different combinations of predicted and actual values.**\n",
        "\n",
        "\n",
        "![image.png](data:image/png;base64,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)"
      ],
      "metadata": {
        "id": "NXGOiqv1Nqre"
      }
    },
    {
      "cell_type": "code",
      "source": [
        "# Get the confusion matrix for both train and test\n",
        "cm_lr = confusion_matrix(y_train, train_class_preds)\n",
        "print(cm_lr)"
      ],
      "metadata": {
        "id": "p3-NaEwaNdZe"
      },
      "execution_count": null,
      "outputs": []
    },
    {
      "cell_type": "code",
      "source": [
        "labels = ['Not Defaulter', 'Defaulter']\n",
        "ax= plt.subplot()\n",
        "sns.heatmap(cm_lr, annot=True, ax = ax) #annot=True to annotate cells\n",
        "\n",
        "# labels, title and ticks\n",
        "ax.set_xlabel('Predicted labels')\n",
        "ax.set_ylabel('True labels')\n",
        "ax.set_title('Confusion Matrix')\n",
        "ax.xaxis.set_ticklabels(labels)\n",
        "ax.yaxis.set_ticklabels(labels)"
      ],
      "metadata": {
        "id": "rnGUbmA1NdWD"
      },
      "execution_count": null,
      "outputs": []
    },
    {
      "cell_type": "markdown",
      "source": [
        "## Features"
      ],
      "metadata": {
        "id": "pvBPJtECOGw3"
      }
    },
    {
      "cell_type": "markdown",
      "source": [
        "***Feature importance refers to techniques that assign a score to input features based on how useful they are at predicting a target variable.***"
      ],
      "metadata": {
        "id": "d_tK0hkyOJRr"
      }
    },
    {
      "cell_type": "code",
      "source": [
        "feature_importance = pd.DataFrame({'Features':columns, 'Importance':np.abs(optimized_clf.coef_).ravel() })"
      ],
      "metadata": {
        "id": "NpBwdWJrOHCk"
      },
      "execution_count": null,
      "outputs": []
    },
    {
      "cell_type": "code",
      "source": [
        "feature_importance = feature_importance.sort_values(by = 'Importance', ascending=False)[:10]"
      ],
      "metadata": {
        "id": "ZF7EdEQkOd1I"
      },
      "execution_count": null,
      "outputs": []
    },
    {
      "cell_type": "code",
      "source": [
        "#plot the graph \n",
        "plt.bar(height=feature_importance['Importance'], x= feature_importance['Features'])\n",
        "plt.xticks(rotation=80)\n",
        "plt.title(\"Feature importances via coefficients\")\n",
        "plt.show()"
      ],
      "metadata": {
        "id": "RiNiPM78Odq4"
      },
      "execution_count": null,
      "outputs": []
    },
    {
      "cell_type": "markdown",
      "source": [
        "* **from the above feature importance graph we can say that the most important feature that make an impact on dependt variable are PAY_JUL_1,PAY_MAY_1,PAY_APR_1**"
      ],
      "metadata": {
        "id": "9jBaTHy7OqUX"
      }
    },
    {
      "cell_type": "markdown",
      "source": [
        "## ROC AUC curve"
      ],
      "metadata": {
        "id": "0V4rGurUOtnS"
      }
    },
    {
      "cell_type": "markdown",
      "source": [
        "**An ROC curve (receiver operating characteristic curve) is a graph showing the performance of a classification model at all classification thresholds. This curve plots two parameters:**\n",
        "\n",
        "* True Positive Rate\n",
        "\n",
        "* False Positive Rate\n",
        "\n",
        "**AUC stands for \"Area under the ROC Curve.\" That is, AUC measures the entire two-dimensional area underneath the entire ROC curve** "
      ],
      "metadata": {
        "id": "Oh2Gvw8SOwJ-"
      }
    },
    {
      "cell_type": "code",
      "source": [
        "y_preds_proba_lr = optimized_clf.predict_proba(X_test)[::,1]"
      ],
      "metadata": {
        "id": "-Yi6G_yUOdfV"
      },
      "execution_count": null,
      "outputs": []
    },
    {
      "cell_type": "code",
      "source": [
        "#plot the graph\n",
        "y_pred_proba = y_preds_proba_lr\n",
        "fpr, tpr, _ = roc_curve(y_test,  y_pred_proba)\n",
        "auc = roc_auc_score(y_test, y_pred_proba)\n",
        "plt.plot(fpr,tpr,label=\"data 1, auc=\"+str(auc))\n",
        "plt.legend(loc=4)\n",
        "plt.show()"
      ],
      "metadata": {
        "id": "zzM-QYK2OdRi"
      },
      "execution_count": null,
      "outputs": []
    },
    {
      "cell_type": "markdown",
      "source": [
        "# **Implementing RandomForest**"
      ],
      "metadata": {
        "id": "g5KlaG4jPC67"
      }
    },
    {
      "cell_type": "markdown",
      "source": [
        "**A random forest classifier. A random forest is a meta estimator that fits a number of decision tree classifiers on various sub-samples of the dataset and uses averaging to improve the predictive accuracy and control over-fitting**"
      ],
      "metadata": {
        "id": "LF0JNvkzPGI8"
      }
    },
    {
      "cell_type": "code",
      "source": [
        "#import the packages\n",
        "from sklearn.ensemble import RandomForestClassifier"
      ],
      "metadata": {
        "id": "7bmn1EdPPDPn"
      },
      "execution_count": null,
      "outputs": []
    },
    {
      "cell_type": "code",
      "source": [
        "#define the X and y value\n",
        "X = credit_df_copy.drop(['default_payment_next_month','total_Payement_Value','Dues'],axis=1)\n",
        "y = credit_df_copy['default_payment_next_month']"
      ],
      "metadata": {
        "id": "e3RXJFG8PHy3"
      },
      "execution_count": null,
      "outputs": []
    },
    {
      "cell_type": "code",
      "source": [
        "rf_clf = RandomForestClassifier()\n",
        "rf_clf.fit(X_train,y_train)"
      ],
      "metadata": {
        "id": "ZrhIX2OzPHrp"
      },
      "execution_count": null,
      "outputs": []
    },
    {
      "cell_type": "code",
      "source": [
        "# Get the predicted classes\n",
        "train_class_preds = rf_clf.predict(X_train)\n",
        "test_class_preds = rf_clf.predict(X_test)"
      ],
      "metadata": {
        "id": "cZQtSIMxPHfL"
      },
      "execution_count": null,
      "outputs": []
    },
    {
      "cell_type": "markdown",
      "source": [
        "## Model Evaluation"
      ],
      "metadata": {
        "id": "llPnHz7uPcAi"
      }
    },
    {
      "cell_type": "code",
      "source": [
        "# Get the accuracy scores\n",
        "train_accuracy_rf = accuracy_score(train_class_preds,y_train)\n",
        "test_accuracy_rf = accuracy_score(test_class_preds,y_test)\n",
        "\n",
        "print(\"The accuracy on train data is \", train_accuracy_rf)\n",
        "print(\"The accuracy on test data is \", test_accuracy_rf)"
      ],
      "metadata": {
        "id": "2rN6kBFXPeRZ"
      },
      "execution_count": null,
      "outputs": []
    },
    {
      "cell_type": "code",
      "source": [
        "test_accuracy_rf = accuracy_score(test_class_preds,y_test)\n",
        "test_precision_score_rf = precision_score(test_class_preds,y_test)\n",
        "test_recall_score_rf = recall_score(test_class_preds,y_test)\n",
        "test_f1_score_rf = f1_score(test_class_preds,y_test)\n",
        "test_roc_score_rf = roc_auc_score(test_class_preds,y_test)\n",
        "\n",
        "print(\"The accuracy on test data is \", test_accuracy_rf)\n",
        "print(\"The precision on test data is \", test_precision_score_rf)\n",
        "print(\"The recall on test data is \", test_recall_score_rf)\n",
        "print(\"The f1 on test data is \", test_f1_score_rf)\n",
        "print(\"The roc_score on test data is \", test_roc_score_rf)"
      ],
      "metadata": {
        "id": "WjilvbX9PeOB"
      },
      "execution_count": null,
      "outputs": []
    },
    {
      "cell_type": "markdown",
      "source": [
        "\n",
        "**from the above evalution we get the results as below**\n",
        "* The accuracy on test data is  **0.8340574541210038**\n",
        "* The precision on test data is **0.8018158236057069**\n",
        "* The recall on test data is **0.8570636351032858**\n",
        "* The f1 on test data is **0.8285197346378074**\n",
        "* The roc_score on test data is  **0.8354518955243524**"
      ],
      "metadata": {
        "id": "BoUIlt8dPpts"
      }
    },
    {
      "cell_type": "markdown",
      "source": [
        "***We can see from above results that we are getting  around 99% train accuracy and 83% for test accuracy which depicts that model is overfitting. However our f1-score is around 82%, which is not bad.***"
      ],
      "metadata": {
        "id": "Nl4iDkUvPsTf"
      }
    },
    {
      "cell_type": "code",
      "source": [
        "#set the parmeter\n",
        "param_grid = {'n_estimators': [100,150,200], 'max_depth': [10,20,30]}"
      ],
      "metadata": {
        "id": "EaRtgiybPeE6"
      },
      "execution_count": null,
      "outputs": []
    },
    {
      "cell_type": "code",
      "source": [
        "#fit the parameter\n",
        "grid_rf_clf = GridSearchCV(RandomForestClassifier(), param_grid, scoring = 'accuracy', n_jobs = -1, verbose = 3, cv = 3)\n",
        "grid_rf_clf.fit(X_train, y_train)"
      ],
      "metadata": {
        "id": "jL0Y1VruPcZS"
      },
      "execution_count": null,
      "outputs": []
    },
    {
      "cell_type": "code",
      "source": [
        "grid_rf_clf.best_score_"
      ],
      "metadata": {
        "id": "sFUaB41lQJID"
      },
      "execution_count": null,
      "outputs": []
    },
    {
      "cell_type": "code",
      "source": [
        "grid_rf_clf.best_params_"
      ],
      "metadata": {
        "id": "lRAFoMsQQJDb"
      },
      "execution_count": null,
      "outputs": []
    },
    {
      "cell_type": "code",
      "source": [
        "optimal_rf_clf = grid_rf_clf.best_estimator_"
      ],
      "metadata": {
        "id": "dYPnxcuMQJAY"
      },
      "execution_count": null,
      "outputs": []
    },
    {
      "cell_type": "code",
      "source": [
        "# Get the predicted classes\n",
        "train_class_preds = optimal_rf_clf.predict(X_train)\n",
        "test_class_preds = optimal_rf_clf.predict(X_test)"
      ],
      "metadata": {
        "id": "6cwCOJ_sQI88"
      },
      "execution_count": null,
      "outputs": []
    },
    {
      "cell_type": "code",
      "source": [
        "# Get the accuracy scores\n",
        "train_accuracy_rf = accuracy_score(train_class_preds,y_train)\n",
        "test_accuracy_rf = accuracy_score(test_class_preds,y_test)\n",
        "\n",
        "print(\"The accuracy on train data is \", train_accuracy_rf)\n",
        "print(\"The accuracy on test data is \", test_accuracy_rf)"
      ],
      "metadata": {
        "id": "aARSRpmcQI0T"
      },
      "execution_count": null,
      "outputs": []
    },
    {
      "cell_type": "code",
      "source": [
        "test_accuracy_rf = accuracy_score(test_class_preds,y_test)\n",
        "test_precision_score_rf = precision_score(test_class_preds,y_test)\n",
        "test_recall_score_rf = recall_score(test_class_preds,y_test)\n",
        "test_f1_score_rf = f1_score(test_class_preds,y_test)\n",
        "test_roc_score_rf = roc_auc_score(test_class_preds,y_test)\n",
        "\n",
        "print(\"The accuracy on test data is \", test_accuracy_rf)\n",
        "print(\"The precision on test data is \", test_precision_score_rf)\n",
        "print(\"The recall on test data is \", test_recall_score_rf)\n",
        "print(\"The f1 on test data is \", test_f1_score_rf)\n",
        "print(\"The roc_score on test data is \", test_roc_score_rf)"
      ],
      "metadata": {
        "id": "w5nJv8w3QaOb"
      },
      "execution_count": null,
      "outputs": []
    },
    {
      "cell_type": "markdown",
      "source": [
        "**from the above evalution we get the results as below**\n",
        "* The accuracy on test data is  **0.8337332209324947**\n",
        "* The precision on test data is **0.8020752269779508**\n",
        "* The recall on test data is **0.856272500692329**\n",
        "* The f1 on test data is **0.8282882400214305**\n",
        "* The roc_score on test data is  **0.8350761210621055**"
      ],
      "metadata": {
        "id": "1eKTC-dwQl66"
      }
    },
    {
      "cell_type": "markdown",
      "source": [
        "**After gridsearch we getting f1-sore approx 82%. As we have imbalanced dataset, F1- score is better parameter. Let's go ahead with other models and see if they can yield better result.**"
      ],
      "metadata": {
        "id": "0Yy3YA_rQoHq"
      }
    },
    {
      "cell_type": "markdown",
      "source": [
        "## Confusion Matrix"
      ],
      "metadata": {
        "id": "N6m89AZTQ4VS"
      }
    },
    {
      "cell_type": "markdown",
      "source": [
        "**Confusion Matrix is a performance measurement for machine learning classification problem where output can be two or more classes. It is a table with 4 different combinations of predicted and actual values.**\n",
        "\n",
        "\n",
        "![image.png](data:image/png;base64,iVBORw0KGgoAAAANSUhEUgAAAWQAAAELCAYAAADuufyvAAAgAElEQVR4Ae2dC7KjIBBF3VY2lO1kN28zsximAFF+ahsVW3KmaipREbrPbW8IMXmD4R8EIAABCKggMKiIgiAgAAEIQMBgyBQBBCAAASUEMGQlQhAGBCAAAQyZGoAABCCghACGrEQIwoAABCCAIVMDEIAABJQQwJCVCEEYEIAABDBkagACEICAEgIYshIhCAMCEIAAhkwNQAACEFBCAENWIgRhQAACEMCQqQEIQAACSghgyEqEIAwIQAACGDI1AAEIQEAJAQxZiRCEAQEIQABDpgYgAAEIKCGAISsRgjAgAAEIYMjUAAQgAAElBDBkJUIQBgQgAAEMmRqAAAQgoIQAhqxECMKAAAQggCFTAxCAAASUEMCQlQhBGBCAAAQwZGoAAhCAgBICGLISIQgDAhCAAIZMDUDg8QT+mc9rMMPrY/41yaX1eE2SUjEIhqxCBoLQTODvPZhhGMzw/lMa5rpB/vu8zDC8zGfJrf99zGsYzGuxQZ72+nh5a7blBDBkOSta/iSBP/O2ZvWypvY2X1ny33vdEA9z3TDIDcPdNOwivo3xivbskBLAkKWkaPebBJyZvs3faGpfTZLvNmSzZqBrx5Yk/+acpb7YHxPAkGMaPIdAQmA0HufC8fOkkd9wpjsubUzLG+M5djv+P7q6XwrJZ93jjDxbPpiWTcZ+0uWFbYP0s+DBFC8oC7PnvePtycVUWcVMc245o7htX88x5L70JJszCWSz4sW39qPBxGZnDWraXpghS03MtksMuBhv25CN8Uafr4PXcvpmPGkuwYwnNsULwpjL1MAYd068fabGyvrCkJUJQjh6CHizimZnhXnYWCsGkqdw0JDz7kpzlRiy9TU7U4/yCbFv3p2Rm3k5Xtm3jTqf7ddZpZzzc8rse96DIfesLrkdIFCaTjCY5Payqklnw55uyLmx1WLNYrCb+cxaErvrZns8kSGP4xWT3YTPONauuz4quT50F4b8UOEI+2ICC2bljSe6hWzJZOLwEsOZD4hMzDWfTaq2Fj3N0nfOdNOZ6RzX1F+87m2fT05avgCIchlZJTlMY0RM3WtHvO4ez+rjOPt7jiH3pykZnUDAm1VsCunzaU13wbiTEA4Zcml+k2GuGGQyfrQxG+fY79RHaPTdeHO/oR/7mC0/SF684tPt88nEf8OUMeS8ANiGwOraam5Y+fpqBd+CIVdnqLnB59uu+9xM85gqMYRdLpbBvD/+yyClH9e+JLI9niiX3KBDTFuPC/y2TnvicQz5iaoR87UEgmktfAskzJ6DmeXbNjg7Y9ycRedmO80Go3Mrd0f42ej6EsIyoPEFxC0V1Gad5QuMaDxRLnbCa79gE92B4mHNX/u27JOllx0vNstJP+YIhvwYqQi0FYH62+9o9GCcwZHdO2tvNNP6aHTMnhmMyB2PjiX73R0Q3oAmM/cnu682h77tMRfj1M8+0yoNNsrtwHiiXGz/4wteyCc14IyVfeFIDDqLtbNNDLkzQUkHAhB4LgEM+bnaETkEINAZAQy5M0FJBwIQeC4BDPm52hE5BCDQGQEMuTNBSQcCEHguAQz5udoROQQg0BkBDLkzQUkHAhB4LgEM+bnaETkEINAZAQy5M0FJBwIQeC4BDPm52hE5BCDQGQEMuTNBSQcCEHguAQz5udoROQQg0BkBDLkzQUkHAhB4LgEM+bnaETkEINAZAQy5M0FJBwIQeC4BDPm52hE5BCDQGQEMuTNBSQcCEHguAQz5udoROQQg0BkBDLkzQUkHAhB4LgEM+bnaETkEINAZAQy5M0FJBwIQeC4BDPm52hE5BCDQGQEMuTNBSQcCEHguAQz5udoROQQg0BkBDLkzQUkHAhB4LgEM+bnaETkEINAZAQy5M0FJBwIQeC4BDPm52hE5BCDQGQEMuTNBSechBP59zGt4mz9xuP/M5zWYt/wEcc80HAko0ARDphpVEPj3eZlhGNL/p7qPN7Rhs09pu2PY/t6DqcbiTKF+zDF6fcy/Y0MXZ0/sCzZtWBQBFTvaxFHTZGITajNjdLYmGHIhPjvuIFAW9p9524vgNAOqXNR/bzMML/NJHK7S7nQgPrfs2jbJxZ8ftDE4s87jPR5cPG46bAsWWfyKNPFcYt5jTcaQTtYEQ87qgc17CJSGbIypXpwnxnd1/0uhunGz5Qq3zy9J1GZqvitvkK/0FWRpFPF+z/5t3q/8BVCLIYtT+b5hoYk334J1UTPnaoIhfy8hZ55IoGrIldmHn7VESxvxbMXGE97yj28x48Ox0RX9DPP6bNzOPS9m6eUM17ULb2s31oaruUYs4/Gj3e5pPZ681b7tKZ6R3cysbsjruY6zyImF12o2tux4xFaVJpXac1QLRnbekL+Q7eMft8aQYxo8v43AZApxBNlsxF+w8cxyvLgnB8mN8s+8owu+MLqs/zB00q7Wxu2b40jau4n9+gWatw/jhse14yWDcNb3jzF7N/bErDTkPLa0veefm++8bfuLlwDK/pfeFSXjttCkNoZDnNeYnQPYzz/mevheCWMw5CP0OPc0ArEpuE7DTHfRbMeh4wunMnuJA0wuansgPjdqmLYrL8DkeG0mVds39V8xoemYf5L0nx3zMZ9z8YeuE/YJwyzWWl7xvvj52PlqLrUXLy2aLMRhTP6iE+roHE0w5FCVPN5KwM8yoqWIYTDzzCosRcSzqzHcxEDGt4/u7XLZtjCHhYsub5duZwbt+kjj9neLlOP7iL3JJbll5NPxioOnzcZCz4khB5N0M77MkDdzzc0q37Yj+n3JHTXTjDyYW8kuZ5JuX6DJQm2E+Kd5gkvJfjiMIYd64rEDArkpFClVZl+uTWbI4Tx3wVpjji729CKWX/zJrNReqFGfS7PsEEf5mJlc2cCvSSZXfNTIGcU5F3/otWA/Mn19/ty9z9PteYsmNfXk28frx0kepUE7TQQ869qNHK7QZE+9nagJM+RQSzzeSqAwhTyaBeNNzHLjnOKiXrjoinbGm6j1Fnssmd0uxZXHEm2X/UcHwww1MbL5uON00mws9Fpj78d5mZe98yLEspWrO77yYlExdMciNmQ1mpQvHpZXjX9tX2C79xFD3kuM9pcQqJlCPpC7eBMzGt/+BsOwF3x4bk/ODKAwwgWDKdqFC/H9yT6UsoOMM97YVNzb8mVj2sq1Nn5g4Y4lY4Uj3z/W4xnZ2tnuxHQj15FnshwRLz3lvJ0+6buYcJfMNOSYVo2Ji/tCTdyYcb2N8ScvyOEF9CRNMOTv65gzTyRQN4VyAH+RzGu21YsjesscX9i1izruL7SttQtGkSxXTOGNRjWNW66BTk3tE2dEmWEHc5r6CDnG7fw4ec5J319sLLF3+xNDtp2v5WpNPMs9M+GpT5fn23zsHQqZmanRJJhtpEnJ/lxNMOQvCphTIHCMgJ99hhcAcV/O3DLDE598fcO6sftcSyO7Pp59I+jQBEPepxqtIXAKgeosfKPnuuFtnNTwsJ/9pi8YtX0NQ9o1lAZNMORdktEYAicRcLPdeDliq1//1nj3rHqr25OPx8sN67f/nTzwGd0p0ARDPkNI+oAABCBwAgEM+QSIdAEBCEDgDAIY8hkU6QMCEIDACQQw5BMg0gUEIACBMwhgyGdQpA8IQAACJxDAkE+ASBcQgAAEziCAIZ9BkT4gAAEInEAAQz4BIl1AAAIQOIMAhnwGRfqAAAQgcAIBDPkEiHRREsh/8Yvt8GNBPP5qLZRXSbkHQy6ZsOcEAvai49/9BNDhfg1sBFIduGp06NVdFNIC7C5xZQmhgw5BpDpgyDr06i4KaQF2l7iyhNBBhyBSHTBkHXp1F4W0ALtLXFlC6KBDEKkOGLIOvbqLQlqA3SWuLCF00CGIVAcMWYde3UUhLcDuEleWEDroEESqA4asQ6/uopAWYHeJK0sIHXQIItUBQ9ahV3dRSAuwu8SVJYQOOgSR6oAh69CruyikBdhd4soSQgcdgkh1wJB16NVdFNIC7C5xZQmhgw5BpDpgyDr06i4KaQF2l7iyhNBBhyBSHTBkHXp1F4W0ALtLXFlC6KBDEKkOGLIOvbqLQlqA3SWuLCF00CGIVAcMWYde3UUhLcDuEleWEDroEESqA4asQ6/uopAWYHeJK0sIHXQIItUBQ9ahV3dRSAuwu8SVJYQOOgSR6oAh69CruyikBdhd4soSQgcdgkh1wJB16NVdFNIC7C5xZQmhgw5BpDo0N+S/92CG999M6d/HvIbxz9q8PubffIRnDyYgLcAHp/iI0NFBh0xSHRob8j/zeb3MZ3Jdu539jbHYrHWwJIovCEgL8IuuOWUHAXTYAevCplIdGhvyn3kPkSH/vd3fmpo82G2/TTR/vhARXV9JQFqAV8ZA3/K/5QarawlIr4cbDNnOiF/m/X45Mx6GyIAx5GuromHv0gJsGNJPDoUOOmSX6tDYkI1xa8hhzXgYzGtevzD/Pi8zsI6so4IORiEtwIPDcPoGAXTYANTosFSH5oZsjF22qH2I5/fHBt2IFcNcQEBagBcMTZcRAXSIYNz4VKrDDYZ8IxWGbkZAWoDNAvrRgdBBh/BSHTBkHXp1F4W0ALtLXFlC6KBDEKkO9xryvz/zN90CpwMcUZxDQFqA54xGL0sE0GGJTNv9Uh1uMORoDdmuJU8f4vl7kllDblsoV40mLcCrxqdfTwAddFSCVIfmhuzusggmbG9zC8+N4S4LHbVzShTSAjxlMDpZJIAOi2iaHpDq0NiQ/ew4+SJIZMiG+5CbFsmVg0kL8MoY6JsvhmipAen1cIMhZ9/Uw5C11MypcUgL8NRB6awggA4Fklt2SHVobMjjb1eEKXK2ZJEsZ9yCjUHPIiAtwLPGo586AXSoc2m9V6pDY0N2C8Xzr7uFL4hEj8GrWwNjvHMJSAvw3FHpLSeADjmRe7alOrQ3ZMcju9PCGXK0lHEPM0Y9kYC0AE8ckq4qBNChAuWGXVIdbjLkG4gwZFMC0gJsGtQPDoYOOkSX6oAh69CrbRTujwJEv7K3Obpf+9+znCQtwM2haXCIADocwnfayVIdMORw/3O0jm3hJX/V5LAs2YeZi/1J2y12IDpQ/NWWcFb46y0V5937S3zSAgxDt32sLZllfygh/CysuxUzP5b+SmHb2PeNpluHMZcFxuVP8/avQ2ND3nEh7Ku7Q61LsxnjjG/JOzaC/8sosdG5IszXzVsYss8tDsWm5hiEF6X8oG9gXvEfF9jg8QgjCDmMhlBL298bn+kUDKR6QuhUx+MjdFjjHzDWrpcOdWhsyKPhhAs/f7ypwEtDNvaHm90P6Uc/1xxK45zHq/tfitKNmy1XjIVt8S/Ono3XTvrV9kcYQWAU5R92TY8LOjlOYRY9Ndb35BE6rPEPSH9Eh8aGHOjWHvdd8LUevt1XNWT39j2dGSWzyNqyRnjLP77QxK8vsdEV/QyDCW3jdu55MUsvZ7jeHMLbucxsMyjVXKM28fjRbve0Hk/eym8/wghC6GuGsGAEXsO0PkJ3mh4focMa/wDzR3RQZMhhVrpuKEGfMx+rJpUVgL8A49jGZY3gpOMP70+bdjsy08Losv5DPkm7Whu3b44jae8Qxj/YFHqdH/P28xH/bO14ySA/e95+hBGEcB3T+UUx7HaPNQ0CZ2bICaqvN9b4h05/RAdVhrzngg86nfFYGHKY6U7uWs5K3bhxkYznTKdkgRVGF58btU3bleMmxyuzeFPbN/W/vUad9D+dNz5xMc8vBvnheLtnQ/Z1+owP9h6hg6urhRfEUFSV66VHHRob8sYacm0ZIAhy4WMQ1hZv+J+slS6ZXGbCzsxcH+Vb2cLoKgVmU8zbpduZQY+FHGKeH8vxPb7tZaF0vAy6G+8XDXmuC894iW/GS8GmjVf9v6U6jt5h+s90+tehsVrj2/zI+GYTWX+rfWVRFTPkfDChIYfTnKnZHKOCKoxOaMjJL+DZc6I+93/wyAw5aJQ8joZQfXezoFNyvuKNJxlylX9g+yM6NDbkQFfXo8yQK2+pXJEszBhrs+e44hZMvjDu8e4Ge6o9Vs7cK3Gt4C37TxuvHffvJBbyTbtx7zSyXXo3MeR7tVnjHyLDkAOJ/h83DTksJSQf4oyz/WCytmDCc4ssK6DC6DLDDpSLduEe4ffHfF75W+VxxhvPmt2Hi8umuZVrbfwktmSscKR8fMTMLIS9ZgiZjuGUpzw+Qoc1/gH0j+hw+QzZXeBLSxS1/cILPuh0xuOWSYUx8lyS2epk2vM6V+rP5bf/4v5C26ohjuadLFeEoMYZ9Lz0k5v21NA/cYWdGfZ4Qcx9hBzidtvrz/FIjzCCEPCaIfyIEQQUtzyu8Q8B/YgOFxvyOIOrGe/ivtgEgho8nkcg+2BQ2vHCEsvS6RjyEpm2+x+hA4Y8FcXFhjyNwxNFBKqz8I34pO8iQjePMIIQbMeP6KBDXKkOGLIOvdpG4Wa7e96J+Hc6YVlFEqy0ACV90eZ7AujwPbszz5TqcIMhby1j7DGKM5HR15kEpAV45pj0VRJAh5LJHXukOjQ35PiDLBtk+n/jA6k7SDLmVwSkBfhV55wkJoAOYlSXNpTq0NiQ/QdK090JbjF/nhG7dco974svRUjnRwhIC/DIGJy7TQAdthm1aCHV4RZDnjw3X8vMt1uQYoxLCEgL8JLB6XQigA4TilufSHW415DdlxiiZYpsxnwrQQY/REBagIcG4eRNAuiwiahJA6kOjQ05//Gcygd80/S5CScGuYiAtAAvGp5uRwLooKMUpDo0N+T8K8Vm/B1hG3DyN7R0cCSKLwlIC/DL7jlNSAAdhKAubibVob0hX5w43esgIC1AHdH2GwU66NBWqkMDQ85+hEcHH6K4mIC0AC8O4+e7RwcdJSDVoZ0hR/ccT7e96WBFFBcQkBbgBUPTZUQAHSIYNz6V6tDAkCMK7ra29MsgfIYX8enoqbQAO0pZZSrooEMWqQ5tDTlmU5hzdPtb3I7njyQgLcBHJvegoNFBh1hSHe4z5JhTYs7zN/fiJjx/FgFpAT4rq+dFiw46NJPqgCHr0Ku7KKQF2F3iyhJCBx2CSHW40ZDHuy+iD/uSP4GkgyNRfElAWoBfds9pQgLoIAR1cTOpDo0NuWLCN/zJpovZ070xz/ojpx0rJjWCjhGoSE2qQwNDrnw9OvljoSp4EcTJBKQFePKwdJcRQIcMyE2bUh0aGHKYFXMXxU21cMuw0gK8JbgfGhQddIgt1aGBIesAQhRtCUgLsG1UvzcaOujQXKoDhqxDr+6ikBZgd4krSwgddAgi1QFD1qFXd1FIC7C7xJUlhA46BJHqgCHr0Ku7KKQF2F3iyhJCBx2CSHXAkHXo1V0U0gLsLnFlCaGDDkGkOmDIOvTqLgppAXaXuLKE0EGHIFIdLjbk2j3I6a+92UDT//yWhY4SOhaFtACPjcLZWwTQYYtQm+NSHS425PFv6BWmm5vwuM1vcbapjgajSAuwQSg/PQQ66JBfqsPlhpzj+Pd5LfztPP8FEn68Pif2zG1pAT4zu+dEjQ46tJLq0NiQvekuToT/3mbgty10VNDBKKQFeHAYTt8ggA4bgBodluqgz5D5nYtGJXLtMNICvDYKekcHHTUg1aGxIY8f8i3Mgv/eAzNkHfVzOAppAR4eiA5WCaDDKp5mB6U6NDZkYz/ly+6qSD/gW1zOaIaOgc4gIC3AM8aij2UC6LDMpuURqQ7tDdlRCL8AF5sxvwbXskCuHktagFfH8ev9o4OOCpDqcJMh64BEFNcRsAXIfxhQA3MNSK62ew3535/5+ycJkzZPIyCdETwtr6fFiw46FJPqcIMhZ8sV0wd8/gM/7kPWUUBHo5AW4NFxOH+dADqs82l1VKpDc0NO7qTI7jt2XxqZDLoVKsa5goC0AK8Ymz5nAugws7jzmVSHxoacfTEkM2R/Bwa/ZXFn4Zw1trQAzxqPfuoE0KHOpfVeqQ43GHJ0NwWG3Loumo0nLcBmAf3oQOigQ3ipDo0NefxiSLjZODPkZDlDB0ei+JKAtAC/7J7ThATQQQjq4mZSHRobsjHm38e8Vm6JCl59MR+6v5iAtAAvDuPnu0cHHSUg1aG9ITs+2Z0WzqCjpQwdDIniAAFpAR4YglMFBNBBAKlBE6kONxlyAwIMcSsBaQHeGuQPDI4OOkSW6tDYkNfvNea2Nx3Fc0YU0gI8Yyz6WCaADstsWh6R6qDKkLntrWWJXDuWtACvjYLe0UFHDUh1aGTItTXj+TveNtjpP18M0VFBB6OQFuDBYTh9gwA6bABqdFiqQxtD3rizYjLjgQ/2GtXH5cNIC/DyQH58AHTQUQBSHdoY8sRkfQ15asaTxxOQFuDjE1WeADroEEiqQ2ND1gGHKK4nIC3A6yP57RHQQYf+Uh3aG7L9dt4wmOILIEv7dfAkip0EpAW4s1ua7ySADjuBXdRcqkNjQ86+Op0l7746XTh11ojNRxCQFuAjknlwkOigQzypDo0NOfu1t5yVmyXza285liduSwvwibk9KWZ00KGWVAcMWYde3UUhLcDuEleWEDroEESqQ2NDtn90ejBD9V7jcTmjekwHVKKQE5AWoLxHWn5DAB2+oXb+OVIdmhsyv/Z2vtgae5QWoMbYe4oJHXSoKdWhvSE7PuNsOP6G3sDasY7SOScKaQGeMxq9LBFAhyUybfdLdbjJkNvCYLT2BKQF2D6y3xoRHXToLdUBQ9ahV3dRSAuwu8SVJYQOOgSR6nC9ISdf+KgtVUQ/LGSXMPhQT0cFHYxCWoAHh+H0DQLosAGo0WGpDo0NWfKrb6wlN6qRS4eRFuClQdC5+1YsGO4nIL0erjfk+1kQwQ0EpAV4Q2g/NSQ66JBbqgOGrEOv7qKQFmB3iStLCB10CCLV4WJDFqwZJ7e+2fVklix0lNCxKKQFeGwUzt4igA5bhNocl+pwsSGP38wrTDf7IC8c54eF2lRHg1GkBdgglJ8eAh10yC/V4XJDznG4P2RanQX7D/xen3/5KWw/kIC0AB+Y2qNCRgcdckl1aGzIgl9747Y3HRV0MAppAR4chtM3CKDDBqBGh6U66DPk6uy5ETWGOY2AtABPG5COqgTQoYql+U6pDo0Nef0X3ZZ/Ca45PwY8SEBagAeH4fQNAuiwAajRYakOjQ3Z2E/53M3qNsDafz7Xa1QhFw8jLcCLw/j57tFBRwlIdWhvyI5P7Rt7L8PneTqK54wopAV4xlj0sUwAHZbZtDwi1eEmQ26JgrEWCdh3K+IPUTc+kM0GkRZgdlq7zcV3atF98FObymTh38e8hsFovytIrw61SVn+rnnU4od0uNeQ//2Zv5vvcnPr1pUL6/4/uDqut1+2huP7T7vPv8gTmZMxxt2ymJ6waKB6jWAMebzI19Lxt2iOJpE3xJAXtf/qwIoev6TDDYacvTJOMzRvBq1nHMGQ828ItjbkcryLDdkZSmq4LoZJj8qf26qcs3Tx9WPIL/N+v8wwZLNkDHlJ+u/2bxryb+jQ3JCTi96KEBmAeyWMtr9Tdt9Z3gg/5vNK336WBrmv372tW49XsHYGUzOdeJ982aInQ/78GycR8SwZQ95b4uvtBYb8Czo0NuTsgs4M2d+Bkc7a1lU8fnQyQlcQ89jT/mmI9bfz9b8VGJvZ0vn5/sEM44Ufx+Ce5y9WScx5P3MuUwrRk7hvtzvpKzTM9HI3yaQvXKFl/tiXIY/LNfEsGUPOJT+27epvMPFrXujQL1n4ayl+7o53psMNhhyZlBUhNpmqKQRZrnmcjWk0tIoZGpMes5GkM0xvXNNySzHb9OfHxTaP6/PKt+3eZJ9jE7EbY/JjbsWXs/Ptp3hDPsWXcsp2SUx5t9F2b4ZsTDZL7swIIunueSo05N51aGzImXFkhuwu9tigG5RGYjCR6SX7C4O1gdkLdDTI4rjPMzbgPJXU0DPzHRsnMSQG7BzUvBbHz+LLBx/N5RtDzuMuuh53PMWQbZzJ/6j+8tmY3x5ncRjykvTf7Rcbcni30qcOjQ05GEl2EUQXxZqJfaf0+lk107NLBsn+8eJLLtwxZh/v1gx5Ie/o4k/GG0PO98VmGD+vL5d4xnWeWbx2PHdB5Mscvl3cRzLuCtqnGHKcW56ON+D4XYnn4d7VYcg5rmPbOwx5miXb66czHdobspNtLOzIiItPsY/JKz47Nz1vTC/zes1rud7w4gsz777MJ7nQx6KJ9+XGVsSRL1nYIV0/No5sBj7tz+Na2i6XIua+o3Mq/dbijM6YnvZpyOGFazDvD/chT2Kf8WSXIferw02GfIaC5/RRGsy4rGJfLCYHHfdN29nYtpii2W52dDTS+AOLaKY1NnZxZH2Usfmljdf7bV7Jeu9GfEVAtSWSso9y/LJNpWu3q1tDDp8nvF58MWRJ/G/27zXkTnXAkN+x8Y6VNM5oZ0O2+0czSmb181t8//Y2XYqJ/Ts9/jKfT2biYczohaA0xHlmkMa2HV9+jeQzdH88m+lnLxDhrWKcV95v2O7XkCMNKl8oCvlreVSvQwC125D71KGxIXtTiz9MCno8+dGb7WzOLhdXYNk+TUm6F4Cd8e04R70RrBhAkMnrWluqml+ctdeyeh0C7BU9fkmHxobsZ2CSGVbQ6QmPtdlm1aRVJeNNZY8WLifhCY8xAlWanB8MOpzP9JsepTo0NuRx7TJZ//wmPW3nzDMmC97/3zn7vCMlOyspliWWAtn3YiotwKXR2H8OAXQ4h+PRXqQ6NDdkm5hbG52MKxjY+Cg2iKOIOP9KAtICvDIG+jZucgCH+wlIr4fGhpx9aFQ15QfMLO/XV30E0gJUn8jDA0QHHQJKdWhsyDrgEMX1BKQFeH0kvz0COujQX6oDhqxDr+6ikBZgd4krSwgddAgi1aGZIfu7Dub1Yu23C+mQ8blRSAvwuRk+I3J00KGTVIcmhpybsQ3O/RfeQqUDKVHsISAtwD190nY/AXTYz+yKM6Q6NDDk8Zaw3HzdjeC1m+6vwEGfrdbEfjkAAAKbSURBVAlIC7B1XL82HjroUFyqQwNDXrp/dWm/DoBEcYyAtACPjcLZWwTQYYtQm+NSHTDkNnr83CjSAvw5MI0TRofGwBeGk+rQzJBtQKL/fDFkQdJn7ZYW4LOyel606KBDM6kO+gy5u69V6yiI1lFIC7B1XL82HjroUFyqQwND1gGEKNoSkBZg26h+bzR00KG5VAcMWYde3UUhLcDuEleWEDroEESqA4asQ6/uopAWYHeJK0sIHXQIItUBQ9ahV3dRSAuwu8SVJYQOOgSR6oAh69CruyikBdhd4soSQgcdgkh1wJB16NVdFNIC7C5xZQmhgw5BpDpgyDr06i4KaQF2l7iyhNBBhyBSHTBkHXp1F4W0ALtLXFlC6KBDEKkOGLIOvbqLQlqA3SWuLCF00CGIVAcMWYde3UUhLcDuEleWEDroEESqA4asQ6/uopAWYHeJK0sIHXQIItUBQ9ahV3dRSAuwu8SVJYQOOgSR6oAh69CruyikBdhd4soSQgcdgkh1wJB16NVdFNIC7C5xZQmhgw5BpDpgyDr06i4KaQF2l7iyhNBBhyBSHTBkHXp1F4W0ALtLXFlC6KBDEKkOGLIOvbqLQlqA3SWuLCF00CGIVAcMWYde3UUhLcDuEleWEDroEESqA4asQ6/uopAWYHeJK0sIHXQIItUBQ9ahV3dRSAuwu8SVJYQOOgSR6oAh69CruyikBdhd4soSQgcdgkh1wJB16NVdFLYA+Q8DamCuAclFjiFLKNEGAhCAQAMCGHIDyAwBAQhAQEIAQ5ZQog0EIACBBgQw5AaQGQICEICAhACGLKFEGwhAAAINCGDIDSAzBAQgAAEJAQxZQok2EIAABBoQwJAbQGYICEAAAhICGLKEEm0gAAEINCDwHz971TX5mbUFAAAAAElFTkSuQmCC)"
      ],
      "metadata": {
        "id": "Bo__AsFDQ6z4"
      }
    },
    {
      "cell_type": "code",
      "source": [
        "# Get the confusion matrix for both train and test\n",
        "cm_rf = confusion_matrix(y_train, train_class_preds)\n",
        "print(cm_rf)"
      ],
      "metadata": {
        "id": "eO5R-h2jQmFM"
      },
      "execution_count": null,
      "outputs": []
    },
    {
      "cell_type": "code",
      "source": [
        "labels = ['Not Defaulter', 'Defaulter']\n",
        "ax= plt.subplot()\n",
        "sns.heatmap(cm_rf, annot=True, ax = ax) #annot=True to annotate cells\n",
        "\n",
        "# labels, title and ticks\n",
        "ax.set_xlabel('Predicted labels')\n",
        "ax.set_ylabel('True labels')\n",
        "ax.set_title('Confusion Matrix')\n",
        "ax.xaxis.set_ticklabels(labels)\n",
        "ax.yaxis.set_ticklabels(labels)"
      ],
      "metadata": {
        "id": "P2hoNhCZRFzF"
      },
      "execution_count": null,
      "outputs": []
    },
    {
      "cell_type": "markdown",
      "source": [
        "## Features"
      ],
      "metadata": {
        "id": "bDP6jfuJRQuI"
      }
    },
    {
      "cell_type": "markdown",
      "source": [
        "***Feature importance refers to techniques that assign a score to input features based on how useful they are at predicting a target variable.***"
      ],
      "metadata": {
        "id": "nPWS5opeRSzb"
      }
    },
    {
      "cell_type": "code",
      "source": [
        "len(optimal_rf_clf.feature_importances_)"
      ],
      "metadata": {
        "id": "KpTRKwT4RFu0"
      },
      "execution_count": null,
      "outputs": []
    },
    {
      "cell_type": "code",
      "source": [
        "# Feature Importance\n",
        "feature_importances_rf = pd.DataFrame(optimal_rf_clf.feature_importances_,\n",
        "                                   index = columns,\n",
        "                                    columns=['importance_rf']).sort_values('importance_rf',\n",
        "                                                                        ascending=False)[:10]\n",
        "                                    \n",
        "plt.subplots(figsize=(17,6))\n",
        "plt.title(\"Feature importances\")\n",
        "plt.bar(feature_importances_rf.index, feature_importances_rf['importance_rf'],\n",
        "        color=\"g\",  align=\"center\")\n",
        "plt.xticks(feature_importances_rf.index, rotation = 85)\n",
        "#plt.xlim([-1, X.shape[1]])\n",
        "plt.show()"
      ],
      "metadata": {
        "id": "QOQgZcaURFrv"
      },
      "execution_count": null,
      "outputs": []
    },
    {
      "cell_type": "markdown",
      "source": [
        "\n",
        "* **from the above feature importance graph we can say that the most important feature that make an impact on dependt variable are LIMIT_BAL,PAY_AMT_SEPT**"
      ],
      "metadata": {
        "id": "krkEOrY2Rf99"
      }
    },
    {
      "cell_type": "markdown",
      "source": [
        "## ROC AUC curve"
      ],
      "metadata": {
        "id": "N7UEokc1RiZy"
      }
    },
    {
      "cell_type": "markdown",
      "source": [
        "**An ROC curve (receiver operating characteristic curve) is a graph showing the performance of a classification model at all classification thresholds. This curve plots two parameters:**\n",
        "\n",
        "* True Positive Rate\n",
        "\n",
        "* False Positive Rate\n",
        "\n",
        "**AUC stands for \"Area under the ROC Curve.\" That is, AUC measures the entire two-dimensional area underneath the entire ROC curve**"
      ],
      "metadata": {
        "id": "vW3LOFg8Rkhn"
      }
    },
    {
      "cell_type": "code",
      "source": [
        "# Get the predicted classes\n",
        "train_class_preds = optimal_rf_clf.predict(X_train)\n",
        "test_class_preds = optimal_rf_clf.predict(X_test)"
      ],
      "metadata": {
        "id": "n01vpt3URFor"
      },
      "execution_count": null,
      "outputs": []
    },
    {
      "cell_type": "code",
      "source": [
        "y_preds_proba_rf = optimal_rf_clf.predict_proba(X_test)[::,1]"
      ],
      "metadata": {
        "id": "7EvpGjn2RFlp"
      },
      "execution_count": null,
      "outputs": []
    },
    {
      "cell_type": "code",
      "source": [
        "import sklearn.metrics as metrics\n",
        "y_pred_proba = y_preds_proba_rf\n",
        "fpr, tpr, _ = metrics.roc_curve(y_test,  y_pred_proba)\n",
        "auc = metrics.roc_auc_score(y_test, y_pred_proba)\n",
        "plt.plot(fpr,tpr,label=\"data 1, auc=\"+str(auc))\n",
        "plt.legend(loc=4)\n",
        "plt.show()"
      ],
      "metadata": {
        "id": "V7oTP_xYRzYb"
      },
      "execution_count": null,
      "outputs": []
    },
    {
      "cell_type": "markdown",
      "source": [
        "# **Implementing SVC**"
      ],
      "metadata": {
        "id": "mecZDJVhR8JD"
      }
    },
    {
      "cell_type": "markdown",
      "source": [
        "**The Linear Support Vector Classifier (SVC) method applies a linear kernel function to perform classification and it performs well with a large number of samples. If we compare it with the SVC model, the Linear SVC has additional parameters such as penalty normalization which applies 'L1' or 'L2' and loss function.**"
      ],
      "metadata": {
        "id": "0FFAlFaTR_u4"
      }
    },
    {
      "cell_type": "code",
      "source": [
        "credit_df_svc = credit_df_copy.copy()"
      ],
      "metadata": {
        "id": "qVvV7bqJRzUn"
      },
      "execution_count": null,
      "outputs": []
    },
    {
      "cell_type": "code",
      "source": [
        "#import the packages\n",
        "from sklearn.model_selection import GridSearchCV"
      ],
      "metadata": {
        "id": "gxWYnlPbRzRs"
      },
      "execution_count": null,
      "outputs": []
    },
    {
      "cell_type": "code",
      "source": [
        "# defining parameter range \n",
        "param_grid = {'C': [0.1, 1, 10, 100],   \n",
        "              'kernel': ['rbf']} "
      ],
      "metadata": {
        "id": "qSxUjrxlRzPK"
      },
      "execution_count": null,
      "outputs": []
    },
    {
      "cell_type": "markdown",
      "source": [
        "##train test split data set"
      ],
      "metadata": {
        "id": "zdn_E4j8Sb27"
      }
    },
    {
      "cell_type": "code",
      "source": [
        "#define the X and y value\n",
        "X = credit_df_svc.drop(['default_payment_next_month','total_Payement_Value','Dues'],axis=1)\n",
        "y = credit_df_svc['default_payment_next_month']"
      ],
      "metadata": {
        "id": "jXaUrRldScJw"
      },
      "execution_count": null,
      "outputs": []
    },
    {
      "cell_type": "code",
      "source": [
        "#standardise the data\n",
        "scaler = StandardScaler()\n",
        "X = scaler.fit_transform(X)"
      ],
      "metadata": {
        "id": "HqB7vzQnSgQI"
      },
      "execution_count": null,
      "outputs": []
    },
    {
      "cell_type": "code",
      "source": [
        "#split the data set\n",
        "X_train, X_test, y_train, y_test = train_test_split(X, y, test_size=0.33, random_state=42, stratify = y)"
      ],
      "metadata": {
        "id": "gIDRqtVqSgK4"
      },
      "execution_count": null,
      "outputs": []
    },
    {
      "cell_type": "markdown",
      "source": [
        "**What is GridSearchCV?** \n",
        "* ***GridSearchCV is a library function that is a member of sklearn's model_selection package. It helps to loop through predefined hyperparameters and fit our estimator (model) on your training set. So, in the end, we can select the best parameters from the listed hyperparameters***."
      ],
      "metadata": {
        "id": "LxEQvK4ESknA"
      }
    },
    {
      "cell_type": "code",
      "source": [
        "#set the parmeter\n",
        "#fit the parameter\n",
        "grid_clf = GridSearchCV(SVC(probability=True), param_grid, scoring = 'accuracy', n_jobs = -1, verbose = 3, cv = 3)\n",
        "grid_clf.fit(X_train, y_train)"
      ],
      "metadata": {
        "id": "gqfabJd-SgH7"
      },
      "execution_count": null,
      "outputs": []
    },
    {
      "cell_type": "code",
      "source": [
        "optimal_SVC_clf = grid_clf.best_estimator_"
      ],
      "metadata": {
        "id": "w1Mz9Pm_S0Lf"
      },
      "execution_count": null,
      "outputs": []
    },
    {
      "cell_type": "code",
      "source": [
        "grid_clf.best_params_"
      ],
      "metadata": {
        "id": "vjoI9vPXS0HC"
      },
      "execution_count": null,
      "outputs": []
    },
    {
      "cell_type": "code",
      "source": [
        "grid_clf.best_score_"
      ],
      "metadata": {
        "id": "YL33ZkgkS0Ea"
      },
      "execution_count": null,
      "outputs": []
    },
    {
      "cell_type": "code",
      "source": [
        "# Get the predicted classes\n",
        "train_class_preds = optimal_SVC_clf.predict(X_train)\n",
        "test_class_preds = optimal_SVC_clf.predict(X_test)"
      ],
      "metadata": {
        "id": "LM2fib-IS0Bo"
      },
      "execution_count": null,
      "outputs": []
    },
    {
      "cell_type": "markdown",
      "source": [
        "## Model Evaluation"
      ],
      "metadata": {
        "id": "4qH32BQ_TB8a"
      }
    },
    {
      "cell_type": "code",
      "source": [
        "# Get the accuracy scores\n",
        "train_accuracy_SVC = accuracy_score(train_class_preds,y_train)\n",
        "test_accuracy_SVC = accuracy_score(test_class_preds,y_test)\n",
        "\n",
        "print(\"The accuracy on train data is \", train_accuracy_lr)\n",
        "print(\"The accuracy on test data is \", test_accuracy_lr)"
      ],
      "metadata": {
        "id": "dwpqSR_FSz-_"
      },
      "execution_count": null,
      "outputs": []
    },
    {
      "cell_type": "code",
      "source": [
        "test_accuracy_SVC = accuracy_score(test_class_preds,y_test)\n",
        "test_precision_score_SVC = precision_score(test_class_preds,y_test)\n",
        "test_recall_score_SVC = recall_score(test_class_preds,y_test)\n",
        "test_f1_score_SVC = f1_score(test_class_preds,y_test)\n",
        "test_roc_score_SVC = roc_auc_score(test_class_preds,y_test)\n",
        "\n",
        "print(\"The accuracy on test data is \", test_accuracy_SVC)\n",
        "print(\"The precision on test data is \", test_precision_score_SVC)\n",
        "print(\"The recall on test data is \", test_recall_score_SVC)\n",
        "print(\"The f1 on test data is \", test_f1_score_SVC)\n",
        "print(\"The roc_score on test data is \", test_roc_score_SVC)"
      ],
      "metadata": {
        "id": "xJddhBrXk2kq"
      },
      "execution_count": null,
      "outputs": []
    },
    {
      "cell_type": "markdown",
      "source": [
        "**from the above evalution we get the results as below**\n",
        "* The accuracy on test data is  **0.766746644186499**\n",
        "* The precision on test data is **0.6900129701686122**\n",
        "* The recall on test data is **0.8150758388233492**\n",
        "* The f1 on test data is **0.7473484582426073**\n",
        "* The roc_score on test data is  **0.7731776765513193**"
      ],
      "metadata": {
        "id": "sXOtpg56k6F7"
      }
    },
    {
      "cell_type": "markdown",
      "source": [
        "**We can see from above results that we are getting  around 74% train accuracy and 75% for test accuracy which is not bad. But f1- score is 74% approx, so there might be more ground for improvement.** "
      ],
      "metadata": {
        "id": "ZOgjJnGEk8lP"
      }
    },
    {
      "cell_type": "markdown",
      "source": [
        "## Confusion Matrix"
      ],
      "metadata": {
        "id": "rXA8AOFjk_Ef"
      }
    },
    {
      "cell_type": "markdown",
      "source": [
        "**Confusion Matrix is a performance measurement for machine learning classification problem where output can be two or more classes. It is a table with 4 different combinations of predicted and actual values.**\n",
        "\n",
        "\n",
        "![image.png](data:image/png;base64,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)"
      ],
      "metadata": {
        "id": "us-uABC-lCeR"
      }
    },
    {
      "cell_type": "code",
      "source": [
        "  # Get the confusion matrix for both train and test\n",
        "\n",
        "labels = ['Not Defaulter', 'Defaulter']\n",
        "cm = confusion_matrix(y_train, train_class_preds)\n",
        "print(cm)\n",
        "\n",
        "ax= plt.subplot()\n",
        "sns.heatmap(cm, annot=True, ax = ax) #annot=True to annotate cells\n",
        "\n",
        "# labels, title and ticks\n",
        "ax.set_xlabel('Predicted labels')\n",
        "ax.set_ylabel('True labels')\n",
        "ax.set_title('Confusion Matrix')\n",
        "ax.xaxis.set_ticklabels(labels)\n",
        "ax.yaxis.set_ticklabels(labels)"
      ],
      "metadata": {
        "id": "O1WmQysBk2hL"
      },
      "execution_count": null,
      "outputs": []
    },
    {
      "cell_type": "code",
      "source": [
        "optimal_SVC_clf"
      ],
      "metadata": {
        "id": "aXHf6aP_k2ex"
      },
      "execution_count": null,
      "outputs": []
    },
    {
      "cell_type": "code",
      "source": [
        "# Get the predicted classes\n",
        "train_class_preds = optimal_SVC_clf.predict(X_train)\n",
        "test_class_preds = optimal_SVC_clf.predict(X_test)"
      ],
      "metadata": {
        "id": "gssSXY0Ak2cO"
      },
      "execution_count": null,
      "outputs": []
    },
    {
      "cell_type": "markdown",
      "source": [
        "## ROC AUC curve"
      ],
      "metadata": {
        "id": "fdlW6NrolczT"
      }
    },
    {
      "cell_type": "markdown",
      "source": [
        "**An ROC curve (receiver operating characteristic curve) is a graph showing the performance of a classification model at all classification thresholds. This curve plots two parameters:**\n",
        "\n",
        "* True Positive Rate\n",
        "\n",
        "* False Positive Rate\n",
        "\n",
        "**AUC stands for \"Area under the ROC Curve.\" That is, AUC measures the entire two-dimensional area underneath the entire ROC curve** "
      ],
      "metadata": {
        "id": "vdhNlp4LlfRH"
      }
    },
    {
      "cell_type": "code",
      "source": [
        "y_pred_proba_SVC = optimal_SVC_clf.predict_proba(X_test)[::,1]"
      ],
      "metadata": {
        "id": "TMe2JGTik2Z4"
      },
      "execution_count": null,
      "outputs": []
    },
    {
      "cell_type": "code",
      "source": [
        "# ROC AUC CURVE\n",
        "fpr, tpr, _ = roc_curve(y_test,  y_pred_proba_SVC)\n",
        "auc = roc_auc_score(y_test, y_pred_proba_SVC)\n",
        "plt.plot(fpr,tpr,label=\"data 1, auc=\"+str(auc))\n",
        "plt.legend(loc=4)\n",
        "plt.show()"
      ],
      "metadata": {
        "id": "J4LesBppk2Ws"
      },
      "execution_count": null,
      "outputs": []
    },
    {
      "cell_type": "markdown",
      "source": [
        "# **Implementing XGBoost** "
      ],
      "metadata": {
        "id": "qCPw3OXglsZ8"
      }
    },
    {
      "cell_type": "markdown",
      "source": [
        "**XGBoost provides a wrapper class to allow models to be treated like classifiers or regressors in the scikit-learn framework.**\n",
        "\n",
        "**The XGBoost model for classification is called XGBClassifier. We can create and and fit it to our training dataset. Models are fit using the scikit-learn API and the model.fit() function.**"
      ],
      "metadata": {
        "id": "92xw7h-XlujT"
      }
    },
    {
      "cell_type": "code",
      "source": [
        "#import lightgbm and xgboost \n",
        "import lightgbm as lgb \n",
        "import xgboost as xgb"
      ],
      "metadata": {
        "id": "b_KOCnG0k2UA"
      },
      "execution_count": null,
      "outputs": []
    },
    {
      "cell_type": "code",
      "source": [
        "#The data is stored in a DMatrix object \n",
        "#label is used to define our outcome variable\n",
        "dtrain=xgb.DMatrix(X_train,label=y_train)\n",
        "dtest=xgb.DMatrix(X_test)"
      ],
      "metadata": {
        "id": "PMk6RXEBlyi4"
      },
      "execution_count": null,
      "outputs": []
    },
    {
      "cell_type": "code",
      "source": [
        "#setting parameters for xgboost\n",
        "parameters={'max_depth':7, 'eta':1, 'silent':1,'objective':'binary:logistic','eval_metric':'auc','learning_rate':.05}"
      ],
      "metadata": {
        "id": "4bT3zsVplyfg"
      },
      "execution_count": null,
      "outputs": []
    },
    {
      "cell_type": "code",
      "source": [
        "#training our model \n",
        "num_round=50\n",
        "from datetime import datetime \n",
        "start = datetime.now() \n",
        "xg=xgb.train(parameters,dtrain,num_round) \n",
        "stop = datetime.now()"
      ],
      "metadata": {
        "id": "hihjvZ4BlydO"
      },
      "execution_count": null,
      "outputs": []
    },
    {
      "cell_type": "code",
      "source": [
        "#Execution time of the model \n",
        "execution_time_xgb = stop-start \n",
        "execution_time_xgb"
      ],
      "metadata": {
        "id": "vebfYcq7l3eG"
      },
      "execution_count": null,
      "outputs": []
    },
    {
      "cell_type": "code",
      "source": [
        "#now predicting our model on train set \n",
        "train_class_preds_probs=xg.predict(dtrain) \n",
        "#now predicting our model on test set \n",
        "test_class_preds_probs =xg.predict(dtest) "
      ],
      "metadata": {
        "id": "7C3s_yxWl3an"
      },
      "execution_count": null,
      "outputs": []
    },
    {
      "cell_type": "code",
      "source": [
        "len(train_class_preds_probs)"
      ],
      "metadata": {
        "id": "NPuHtff3l3YC"
      },
      "execution_count": null,
      "outputs": []
    },
    {
      "cell_type": "code",
      "source": [
        "train_class_preds = []\n",
        "test_class_preds = []\n",
        "for i in range(0,len(train_class_preds_probs)):\n",
        "  if train_class_preds_probs[i] >= 0.5:\n",
        "    train_class_preds.append(1)\n",
        "  else:\n",
        "    train_class_preds.append(0)\n",
        "\n",
        "for i in range(0,len(test_class_preds_probs)):\n",
        "  if test_class_preds_probs[i] >= 0.5:\n",
        "    test_class_preds.append(1)\n",
        "  else:\n",
        "    test_class_preds.append(0)"
      ],
      "metadata": {
        "id": "7j_VPwZ2lya0"
      },
      "execution_count": null,
      "outputs": []
    },
    {
      "cell_type": "code",
      "source": [
        "test_class_preds_probs[:20]"
      ],
      "metadata": {
        "id": "015UYJqHl_nk"
      },
      "execution_count": null,
      "outputs": []
    },
    {
      "cell_type": "code",
      "source": [
        "test_class_preds[:20]"
      ],
      "metadata": {
        "id": "Q9vEDZ-Ol_kR"
      },
      "execution_count": null,
      "outputs": []
    },
    {
      "cell_type": "code",
      "source": [
        "len(y_train)"
      ],
      "metadata": {
        "id": "6NUbFHivl_hU"
      },
      "execution_count": null,
      "outputs": []
    },
    {
      "cell_type": "code",
      "source": [
        "len(train_class_preds)"
      ],
      "metadata": {
        "id": "_AJlDIONl_e9"
      },
      "execution_count": null,
      "outputs": []
    },
    {
      "cell_type": "markdown",
      "source": [
        "## **Model Evaluation**"
      ],
      "metadata": {
        "id": "yeqjqjzkmSzS"
      }
    },
    {
      "cell_type": "code",
      "source": [
        "# Get the accuracy scores\n",
        "train_accuracy_xgb = accuracy_score(train_class_preds,y_train)\n",
        "test_accuracy_xgb = accuracy_score(test_class_preds,y_test)\n",
        "\n",
        "print(\"The accuracy on train data is \", train_accuracy_xgb)\n",
        "print(\"The accuracy on test data is \", test_accuracy_xgb)"
      ],
      "metadata": {
        "id": "czYqlJE4mF0h"
      },
      "execution_count": null,
      "outputs": []
    },
    {
      "cell_type": "code",
      "source": [
        "test_accuracy_xgb = accuracy_score(test_class_preds,y_test)\n",
        "test_precision_xgb = precision_score(test_class_preds,y_test)\n",
        "test_recall_score_xgb = recall_score(test_class_preds,y_test)\n",
        "test_f1_score_xgb = f1_score(test_class_preds,y_test)\n",
        "test_roc_score_xgb = roc_auc_score(test_class_preds,y_test)\n",
        "\n",
        "print(\"The accuracy on test data is \", test_accuracy_xgb)\n",
        "print(\"The precision on test data is \", test_precision_xgb)\n",
        "print(\"The recall on test data is \", test_recall_score_xgb)\n",
        "print(\"The f1 on test data is \", test_f1_score_xgb)\n",
        "print(\"The roc_score on train data is \", test_roc_score_xgb)"
      ],
      "metadata": {
        "id": "manDr2sjmFxJ"
      },
      "execution_count": null,
      "outputs": []
    },
    {
      "cell_type": "markdown",
      "source": [
        "**from the above evalution we get the results as below**\n",
        "* The accuracy on test data is  **0.7531288502691136**\n",
        "* The precision on test data is **0.677561608300908**\n",
        "* The recall on test data is **0.79816653934301**\n",
        "* The f1 on test data is **0.732935811995791**\n",
        "* The roc_score on test data is  **0.7590427108612301**"
      ],
      "metadata": {
        "id": "Cx3qirREmZqc"
      }
    },
    {
      "cell_type": "markdown",
      "source": [
        "## **Confusion Matrix**"
      ],
      "metadata": {
        "id": "BIayMfqtmnke"
      }
    },
    {
      "cell_type": "markdown",
      "source": [
        "## Confusion Matrix"
      ],
      "metadata": {
        "id": "nIwQFz64mpsy"
      }
    },
    {
      "cell_type": "markdown",
      "source": [
        "**Confusion Matrix is a performance measurement for machine learning classification problem where output can be two or more classes. It is a table with 4 different combinations of predicted and actual values.**\n",
        "\n",
        "\n",
        "![image.png](data:image/png;base64,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)"
      ],
      "metadata": {
        "id": "URdr66almsUF"
      }
    },
    {
      "cell_type": "code",
      "source": [
        "# Get the confusion matrix for both train and test\n",
        "cm_xg = confusion_matrix(y_train, train_class_preds)\n",
        "print(cm_xg)"
      ],
      "metadata": {
        "id": "wo6pmFjTmFub"
      },
      "execution_count": null,
      "outputs": []
    },
    {
      "cell_type": "code",
      "source": [
        "labels = ['Not Defaulter', 'Defaulter']\n",
        "ax= plt.subplot()\n",
        "sns.heatmap(cm_xg, annot=True, ax = ax) #annot=True to annotate cells\n",
        "\n",
        "# labels, title and ticks\n",
        "ax.set_xlabel('Predicted labels')\n",
        "ax.set_ylabel('True labels')\n",
        "ax.set_title('Confusion Matrix')\n",
        "ax.xaxis.set_ticklabels(labels)\n",
        "ax.yaxis.set_ticklabels(labels)"
      ],
      "metadata": {
        "id": "1qk0_LDomFr-"
      },
      "execution_count": null,
      "outputs": []
    },
    {
      "cell_type": "markdown",
      "source": [
        "# **Hyperparameter Tuning**"
      ],
      "metadata": {
        "id": "G4obVtZanYGu"
      }
    },
    {
      "cell_type": "markdown",
      "source": [
        "* **Hyperparameters are crucial as they control the overall behaviour of a machine learning model. The ultimate goal is to find an optimal combination of hyperparameters that minimizes a predefined loss function to give better results.**\n",
        "* **We can leverage the maximum power of XGBoost by tuning its hyperparameters**"
      ],
      "metadata": {
        "id": "NaxwN1kdnaxz"
      }
    },
    {
      "cell_type": "code",
      "source": [
        "#import the packages\n",
        "from xgboost import  XGBClassifier"
      ],
      "metadata": {
        "id": "58uUGlAUnUNc"
      },
      "execution_count": null,
      "outputs": []
    },
    {
      "cell_type": "code",
      "source": [
        "#define the X and y value\n",
        "X = credit_df_copy.drop(['default_payment_next_month','total_Payement_Value','Dues'],axis=1)\n",
        "y = credit_df_copy['default_payment_next_month']"
      ],
      "metadata": {
        "id": "eSe8WBEBnUIW"
      },
      "execution_count": null,
      "outputs": []
    },
    {
      "cell_type": "code",
      "source": [
        "#split the data set\n",
        "X_train, X_test, y_train, y_test = train_test_split(X, y, test_size=0.33, random_state=42, stratify = y)"
      ],
      "metadata": {
        "id": "4AtH4_ZKnUFs"
      },
      "execution_count": null,
      "outputs": []
    },
    {
      "cell_type": "code",
      "source": [
        "param_test1 = {\n",
        " 'max_depth':range(3,10,2),\n",
        " 'min_child_weight':range(1,6,2)\n",
        "}\n",
        "gsearch1 = GridSearchCV(estimator = XGBClassifier( learning_rate =0.1, n_estimators=140, max_depth=5,\n",
        " min_child_weight=1, gamma=0, subsample=0.8, colsample_bytree=0.8,\n",
        " objective= 'binary:logistic', nthread=4, scale_pos_weight=1, seed=27), \n",
        " param_grid = param_test1, scoring='accuracy',n_jobs=-1,iid=False, cv=3, verbose = 2)\n",
        "gsearch1.fit(X_train, y_train)"
      ],
      "metadata": {
        "id": "0DCO6jnPnUDO"
      },
      "execution_count": null,
      "outputs": []
    },
    {
      "cell_type": "code",
      "source": [
        " gsearch1.best_score_"
      ],
      "metadata": {
        "id": "JtA67P-WnUAf"
      },
      "execution_count": null,
      "outputs": []
    },
    {
      "cell_type": "code",
      "source": [
        "optimal_xgb = gsearch1.best_estimator_"
      ],
      "metadata": {
        "id": "-1l4sqr-n1Fy"
      },
      "execution_count": null,
      "outputs": []
    },
    {
      "cell_type": "code",
      "source": [
        "# Get the predicted classes\n",
        "train_class_preds = optimal_xgb.predict(X_train)\n",
        "test_class_preds = optimal_xgb.predict(X_test)"
      ],
      "metadata": {
        "id": "ru0WIAFan1CZ"
      },
      "execution_count": null,
      "outputs": []
    },
    {
      "cell_type": "code",
      "source": [
        "# Get the accuracy scores\n",
        "train_accuracy_xgb_tuned = accuracy_score(train_class_preds,y_train)\n",
        "test_accuracy_xgb_tuned = accuracy_score(test_class_preds,y_test)\n",
        "\n",
        "print(\"The accuracy on train data is \", train_accuracy_xgb_tuned)\n",
        "print(\"The accuracy on test data is \", test_accuracy_xgb_tuned)"
      ],
      "metadata": {
        "id": "yAq9fb4Xn0_6"
      },
      "execution_count": null,
      "outputs": []
    },
    {
      "cell_type": "code",
      "source": [
        "test_accuracy_xgb_tuned = accuracy_score(test_class_preds,y_test)\n",
        "test_precision_xgb_tuned = precision_score(test_class_preds,y_test)\n",
        "test_recall_score_xgb_tuned = recall_score(test_class_preds,y_test)\n",
        "test_f1_score_xgb_tuned = f1_score(test_class_preds,y_test)\n",
        "test_roc_score_xgb_tuned = roc_auc_score(test_class_preds,y_test)\n",
        "\n",
        "print(\"The accuracy on test data is \", test_accuracy_xgb_tuned)\n",
        "print(\"The precision on test data is \", test_precision_xgb_tuned)\n",
        "print(\"The recall on test data is \", test_recall_score_xgb_tuned)\n",
        "print(\"The f1 on test data is \", test_f1_score_xgb_tuned)\n",
        "print(\"The roc_score on train data is \", test_roc_score_xgb_tuned)"
      ],
      "metadata": {
        "id": "WYV21yQXn09M"
      },
      "execution_count": null,
      "outputs": []
    },
    {
      "cell_type": "markdown",
      "source": [
        "**from the above evalution we get the results as below**\n",
        "* The accuracy on test data is  **0.787562414888788**\n",
        "* The precision on test data is **0.7316472114137483**\n",
        "* The recall on test data is **0.8237441588785047**\n",
        "* The f1 on test data is **0.7749690891605989**\n",
        "* The roc_score on test data is  **0.7912025355223038**"
      ],
      "metadata": {
        "id": "eoYxSLr9oI_F"
      }
    },
    {
      "cell_type": "code",
      "source": [
        "pd.DataFrame(optimal_xgb.feature_importances_,\n",
        "                                   index = columns,\n",
        "                                    columns=['importance_xgb']).sort_values('importance_xgb',\n",
        "                                                                        ascending=False)[:10]"
      ],
      "metadata": {
        "id": "n6kVeaiOoIl2"
      },
      "execution_count": null,
      "outputs": []
    },
    {
      "cell_type": "markdown",
      "source": [
        "## Feature Importance"
      ],
      "metadata": {
        "id": "5JesBSneoOk_"
      }
    },
    {
      "cell_type": "markdown",
      "source": [
        "\n",
        "***Feature importance refers to techniques that assign a score to input features based on how useful they are at predicting a target variable.***"
      ],
      "metadata": {
        "id": "e53Nk3LzoQ3N"
      }
    },
    {
      "cell_type": "code",
      "source": [
        "# Feature Importance\n",
        "feature_importances_xgb = pd.DataFrame(optimal_xgb.feature_importances_,\n",
        "                                   index = columns,\n",
        "                                    columns=['importance_xgb']).sort_values('importance_xgb',\n",
        "                                                                        ascending=False)[:10]\n",
        "                                    \n",
        "plt.subplots(figsize=(17,6))\n",
        "plt.title(\"Feature importances\")\n",
        "plt.bar(feature_importances_xgb.index, feature_importances_xgb['importance_xgb'],\n",
        "        color=\"b\",  align=\"center\")\n",
        "plt.xticks(feature_importances_xgb.index, rotation = 85)\n",
        "#plt.xlim([-1, X.shape[1]])\n",
        "plt.show()"
      ],
      "metadata": {
        "id": "qIVi-XNfoIim"
      },
      "execution_count": null,
      "outputs": []
    },
    {
      "cell_type": "markdown",
      "source": [
        "* **from the above feature importance graph we can say that the most important feature that make an impact on dependt variable are PAY_AUG_1**"
      ],
      "metadata": {
        "id": "Lv302iQfoVDM"
      }
    },
    {
      "cell_type": "markdown",
      "source": [
        "##ROC_AUC curve"
      ],
      "metadata": {
        "id": "c8R9RIQeoh3e"
      }
    },
    {
      "cell_type": "markdown",
      "source": [
        "**An ROC curve (receiver operating characteristic curve) is a graph showing the performance of a classification model at all classification thresholds. This curve plots two parameters:**\n",
        "\n",
        "* True Positive Rate\n",
        "\n",
        "* False Positive Rate\n",
        "\n",
        "**AUC stands for \"Area under the ROC Curve.\" That is, AUC measures the entire two-dimensional area underneath the entire ROC curve** "
      ],
      "metadata": {
        "id": "ndjniPagoj_j"
      }
    },
    {
      "cell_type": "code",
      "source": [
        "y_preds_proba_xgb = optimal_xgb.predict_proba(X_test)[::,1]"
      ],
      "metadata": {
        "id": "DcXDN5fCoIgB"
      },
      "execution_count": null,
      "outputs": []
    },
    {
      "cell_type": "code",
      "source": [
        "y_pred_proba = y_preds_proba_xgb\n",
        "fpr, tpr, _ = metrics.roc_curve(y_test,  y_pred_proba)\n",
        "auc = metrics.roc_auc_score(y_test, y_pred_proba)\n",
        "plt.plot(fpr,tpr,label=\"data 1, auc=\"+str(auc))\n",
        "plt.legend(loc=4)\n",
        "plt.show()"
      ],
      "metadata": {
        "id": "SZh1pBkSoIdS"
      },
      "execution_count": null,
      "outputs": []
    },
    {
      "cell_type": "markdown",
      "source": [
        "# **Evaluating the models**"
      ],
      "metadata": {
        "id": "1YYJTfqeoqs2"
      }
    },
    {
      "cell_type": "code",
      "source": [
        "recall_score"
      ],
      "metadata": {
        "id": "ul4Nz_iGop_S"
      },
      "execution_count": null,
      "outputs": []
    },
    {
      "cell_type": "code",
      "source": [
        "#create a table of all models all score for comparison \n",
        "classifiers = ['Logistic Regression', 'SVC', 'Random Forest CLf', 'Xgboost Clf']\n",
        "train_accuracy = [train_accuracy_lr, train_accuracy_SVC, train_accuracy_rf, train_accuracy_xgb_tuned]\n",
        "test_accuracy = [test_accuracy_lr, test_accuracy_SVC, test_accuracy_rf, test_accuracy_xgb_tuned]\n",
        "precision_score = [test_precision_score_lr, test_precision_score_SVC, test_precision_score_rf, test_precision_xgb_tuned]\n",
        "recall_score = [test_recall_score_lr, test_recall_score_SVC, test_recall_score_rf, test_recall_score_xgb_tuned]\n",
        "f1_score = [test_f1_score_lr, test_f1_score_SVC, test_f1_score_rf, test_f1_score_xgb_tuned]"
      ],
      "metadata": {
        "id": "jH-P7dfoop7-"
      },
      "execution_count": null,
      "outputs": []
    },
    {
      "cell_type": "code",
      "source": [
        "pd.DataFrame({'Classifier':classifiers, 'Train Accuracy': train_accuracy, 'Test Accuracy': test_accuracy, 'Precision Score': precision_score, 'Recall Score': recall_score, 'F1 Score': f1_score })"
      ],
      "metadata": {
        "id": "beIQRQMGop5S"
      },
      "execution_count": null,
      "outputs": []
    },
    {
      "cell_type": "markdown",
      "source": [
        "**from the above table we can find that xgboost classifier perform best among those models**"
      ],
      "metadata": {
        "id": "fpovez54oxvw"
      }
    },
    {
      "cell_type": "markdown",
      "source": [
        "# **Plotting ROC AUC for all the models**"
      ],
      "metadata": {
        "id": "Jz_qhRrbo6OS"
      }
    },
    {
      "cell_type": "code",
      "source": [
        "classifiers_proba = [(optimized_clf, y_preds_proba_lr), \n",
        "               (optimal_rf_clf, y_preds_proba_rf), \n",
        "               (optimal_xgb, y_preds_proba_xgb),\n",
        "               (optimal_SVC_clf,y_pred_proba_SVC)]\n",
        "\n",
        "# Define a result table as a DataFrame\n",
        "result_table = pd.DataFrame(columns=['classifiers', 'fpr','tpr','auc'])\n",
        "\n",
        "# Train the models and record the results\n",
        "for pair in classifiers_proba:\n",
        "    \n",
        "    fpr, tpr, _ = roc_curve(y_test,  pair[1])\n",
        "    auc = roc_auc_score(y_test, pair[1])\n",
        "    \n",
        "    result_table = result_table.append({'classifiers':pair[0].__class__.__name__,\n",
        "                                        'fpr':fpr, \n",
        "                                        'tpr':tpr, \n",
        "                                        'auc':auc}, ignore_index=True)\n",
        "\n",
        "# Set name of the classifiers as index labels\n",
        "result_table.set_index('classifiers', inplace=True)"
      ],
      "metadata": {
        "id": "xipqPlQ5op20"
      },
      "execution_count": null,
      "outputs": []
    },
    {
      "cell_type": "code",
      "source": [
        "result_table"
      ],
      "metadata": {
        "id": "eBgx-Yito9tu"
      },
      "execution_count": null,
      "outputs": []
    },
    {
      "cell_type": "code",
      "source": [
        "fig = plt.figure(figsize=(8,6))\n",
        "\n",
        "for i in result_table.index:\n",
        "    plt.plot(result_table.loc[i]['fpr'], \n",
        "             result_table.loc[i]['tpr'], \n",
        "             label=\"{}, AUC={:.3f}\".format(i, result_table.loc[i]['auc']))\n",
        "    \n",
        "plt.plot([0,1], [0,1], color='orange', linestyle='--')\n",
        "\n",
        "plt.xticks(np.arange(0.0, 1.1, step=0.1))\n",
        "plt.xlabel(\"Flase Positive Rate\", fontsize=15)\n",
        "\n",
        "plt.yticks(np.arange(0.0, 1.1, step=0.1))\n",
        "plt.ylabel(\"True Positive Rate\", fontsize=15)\n",
        "\n",
        "plt.title('ROC Curve Analysis', fontweight='bold', fontsize=15)\n",
        "plt.legend(prop={'size':13}, loc='lower right')\n",
        "\n",
        "plt.show()"
      ],
      "metadata": {
        "id": "dApEa6nKo9rM"
      },
      "execution_count": null,
      "outputs": []
    },
    {
      "cell_type": "markdown",
      "source": [
        "# **Model Recommendation**"
      ],
      "metadata": {
        "id": "neyO3iSJpFx3"
      }
    },
    {
      "cell_type": "markdown",
      "source": [
        "We recommend recall = 0.8, however, the threshold can be adjusted to reach higher recall."
      ],
      "metadata": {
        "id": "6ZpBGnPjpHro"
      }
    },
    {
      "cell_type": "code",
      "source": [
        "# Compute precision, recall and threshold of Random Forest\n",
        "\n",
        "precisions, recalls, thresholds = precision_recall_curve(y_test, y_pred_proba)\n",
        "\n",
        "recalls_80 = recalls[np.argmin(recalls >= 0.80)]               # Recommend recall score = 0.8\n",
        "precision_80 = precisions[np.argmin(recalls >= 0.80)]\n",
        "threshold_80_recall = thresholds[np.argmin(recalls >= 0.80)]\n",
        "\n",
        "thresholds = np.append(thresholds, 1)\n",
        "\n",
        "recalls_80, precision_80, threshold_80_recall\n"
      ],
      "metadata": {
        "id": "U5ANY45Co9on"
      },
      "execution_count": null,
      "outputs": []
    },
    {
      "cell_type": "code",
      "source": [
        "# Plot recommended recall = 0.8\n",
        "\n",
        "fig, ax = plt.subplots(figsize=(10,5))\n",
        "\n",
        "ax.plot(thresholds, recalls, label='Recalls')\n",
        "ax.plot(thresholds, precisions, label='Precisions')\n",
        "\n",
        "ax.plot([threshold_80_recall, threshold_80_recall], [precision_80, recalls_80], \"r:\" )\n",
        "ax.plot([threshold_80_recall, threshold_80_recall], [0, precision_80], \"r:\")\n",
        "ax.plot([0, threshold_80_recall], [precision_80, precision_80], \"r:\")\n",
        "ax.plot([0, threshold_80_recall], [recalls_80, recalls_80], \"r:\")\n",
        "ax.plot([threshold_80_recall], [recalls_80], \"ro\", label='Threshold')\n",
        "\n",
        "ax.set_xlabel('Threshold')\n",
        "ax.set_ylabel('Precisons / Recalls')\n",
        "ax.legend(loc='center right',fontsize=16)\n",
        "plt.title('Model Recommendation(Recalls = 0.8)')\n",
        "plt.savefig('recommended_recall')\n",
        "plt.show()\n"
      ],
      "metadata": {
        "id": "LX2S-fico9mC"
      },
      "execution_count": null,
      "outputs": []
    },
    {
      "cell_type": "markdown",
      "source": [
        "# **Feature Importances**"
      ],
      "metadata": {
        "id": "W_RozRLFpSxP"
      }
    },
    {
      "cell_type": "code",
      "source": [
        "fea_df = pd.DataFrame({'Feature': columns, 'Feature importance': optimal_rf_clf.feature_importances_})\n",
        "fea_df = fea_df.sort_values(by='Feature importance')\n",
        "\n",
        "figure, ax = plt.subplots(figsize = (10,20))\n",
        "fea_df.plot.barh(x='Feature',y='Feature importance', ax=ax)\n",
        "plt.title('Features importance',fontsize=14)"
      ],
      "metadata": {
        "id": "sPTpgFnSpSgj"
      },
      "execution_count": null,
      "outputs": []
    },
    {
      "cell_type": "markdown",
      "source": [
        "**\"LIMT_BAL\",\"BILL_AMT_SEPT\" AND \"PAY_AMT_SEPT\" are the most recent 2 months' payment status and they are the strongest predictors of future payment default risk.**"
      ],
      "metadata": {
        "id": "cnyPM0N9pW-x"
      }
    },
    {
      "cell_type": "markdown",
      "source": [
        "#**Conclusion**"
      ],
      "metadata": {
        "id": "DOS6E23GpZDE"
      }
    },
    {
      "cell_type": "markdown",
      "source": [
        "XGBoost model has the highest recall, if the business cares recall the most, then this model is the best candidate. If the balance of recall and precision is the most important metric, then Random Forest is the ideal model. Since Random Forest has slightly lower recall but much higher precision than Logistic Regression, I would recommend Random Forest. "
      ],
      "metadata": {
        "id": "DY-CuPntpbwN"
      }
    },
    {
      "cell_type": "markdown",
      "source": [
        "* Data categorical variables had minority classes which were added to their closest majority class\n",
        "* There were not huge gap but female clients tended to default the most.\n",
        "* Labels of the data were imbalanced and had a significant difference.\n",
        "* Gradient boost gave the highest accuracy of 82% on test dataset.\n",
        "* Repayment in the month of september tended to be the most important feature for our machine learning model.\n",
        "* The best **accuracy** is obtained for the **Random forest** and **XGBoost classifier.**\n",
        " \n",
        "* In general, all models have comparable accuracy. Nevertheless, because the classes are imbalanced (the proportion of non-default credit cards is higher than default) this metric is misleading. \n",
        " \n",
        "* Furthermore, **accuracy** does not consider the rate of **false positives** (non-default credits cards that were predicted as default) and **false negatives** (default credit cards that were incorrectly predicted as non-default). \n",
        " \n",
        "* Both cases have negative impact on the bank, since **false positives** leads to unsatisfied customers and **false negatives** leads to financial loss.\n",
        " \n",
        "* From above table we can see that **XGBoost Classifier** having **Recall**, **F1-score**, and **ROC Score** values equals 82%, 77%, and 86% and **Random forest Classifier** having **Recall**, **F1-score**, and **ROC Score** values equals 81%, 75%, and 84%.\n",
        " \n",
        "* **XGBoost Classifier** and **Decision Tree Classifier** are giving us the best **Recall, F1-score**, and **ROC Score** among other algorithms. We can conclude that these two algorithms are the best to predict whether the credit card is default or not default according to our analysis."
      ],
      "metadata": {
        "id": "bmjzBfnSpeJc"
      }
    },
    {
      "cell_type": "code",
      "source": [
        ""
      ],
      "metadata": {
        "id": "v-IdDSHLpSdB"
      },
      "execution_count": null,
      "outputs": []
    },
    {
      "cell_type": "code",
      "source": [
        ""
      ],
      "metadata": {
        "id": "xGhQBR5lo9jC"
      },
      "execution_count": null,
      "outputs": []
    }
  ]
}